{
 "cells": [
  {
   "cell_type": "markdown",
   "metadata": {
    "id": "IcJ2bbjQ8PIN"
   },
   "source": [
    "# MAE6292 - Homework \\# 1"
   ]
  },
  {
   "cell_type": "markdown",
   "metadata": {
    "id": "WtYeODgW99J2"
   },
   "source": [
    "In this assignment, we will perform simple image manipulations."
   ]
  },
  {
   "cell_type": "markdown",
   "metadata": {
    "id": "LvmSursi-GdP"
   },
   "source": [
    "## Import Modules\n",
    "\n"
   ]
  },
  {
   "cell_type": "code",
   "execution_count": null,
   "metadata": {
    "executionInfo": {
     "elapsed": 373,
     "status": "ok",
     "timestamp": 1610478584977,
     "user": {
      "displayName": "Taeyoung Lee",
      "photoUrl": "",
      "userId": "07906618747313337531"
     },
     "user_tz": 300
    },
    "id": "o3eOxpLx7zs2"
   },
   "outputs": [],
   "source": [
    "import numpy as np\n",
    "import matplotlib.pyplot as plt\n",
    "\n",
    "import cv2"
   ]
  },
  {
   "cell_type": "markdown",
   "metadata": {
    "id": "HJWbV3vs-YFG"
   },
   "source": [
    "## Google Colab\n",
    "\n",
    "**Note**: skip this cell, if you are running it on your local computer.\n",
    "\n",
    "If you are running this code in Google Colab, execute the following commands to load `cv2_imshow` and mount your Google Drive.\n",
    "\n",
    "The last line assumes that the homework folder in your local computer is `Google Drive/MAE6292/HW1`. Modify it if yours is in a different folder."
   ]
  },
  {
   "cell_type": "code",
   "execution_count": null,
   "metadata": {
    "colab": {
     "base_uri": "https://localhost:8080/"
    },
    "executionInfo": {
     "elapsed": 302,
     "status": "ok",
     "timestamp": 1610478380774,
     "user": {
      "displayName": "Taeyoung Lee",
      "photoUrl": "",
      "userId": "07906618747313337531"
     },
     "user_tz": 300
    },
    "id": "49qFdcUo-ral",
    "outputId": "adc9a91d-f647-42b1-8784-d4d74bbb8a88"
   },
   "outputs": [],
   "source": [
    "from google.colab.patches import cv2_imshow\n",
    "from google.colab import drive\n",
    "\n",
    "drive.mount('/content/drive')\n",
    "\n",
    "# this assumes that the homework folder in your local computer is \"Google Drive/MAE6292/HW1\"\n",
    "# modify the folder name as \"drive/MyDrive/YOUR_FOLDER_NAME\" if neeed\n",
    "%cd drive/MyDrive/MAE6292/HW1 "
   ]
  },
  {
   "cell_type": "markdown",
   "metadata": {
    "id": "OVmymwdo_BuO"
   },
   "source": [
    "Make it sure you are in the correct folder and you have access to the image file, `IMG_0890.png`"
   ]
  },
  {
   "cell_type": "code",
   "execution_count": null,
   "metadata": {
    "colab": {
     "base_uri": "https://localhost:8080/"
    },
    "executionInfo": {
     "elapsed": 537,
     "status": "ok",
     "timestamp": 1610478287986,
     "user": {
      "displayName": "Taeyoung Lee",
      "photoUrl": "",
      "userId": "07906618747313337531"
     },
     "user_tz": 300
    },
    "id": "H2--GWRY-5Ou",
    "outputId": "974a18ba-854f-4d81-80c6-4514557e36ca"
   },
   "outputs": [],
   "source": [
    "!pwd\n",
    "!ls"
   ]
  },
  {
   "cell_type": "markdown",
   "metadata": {},
   "source": [
    "## Jupyter Notebook\n",
    "\n",
    "**Note**: skip this cell, if you are running this remotely on Google Colab.\n",
    "\n",
    "It turns out that `cv2.imshow()` does not work in Jupter Notebook as well. You may use the follwing function `cv2_imshow` instead. "
   ]
  },
  {
   "cell_type": "code",
   "execution_count": null,
   "metadata": {},
   "outputs": [],
   "source": [
    "def cv2_imshow(image):\n",
    "# developed by Kanishke Gamagedara, udpated by MAE6292\n",
    "    plt.figure(dpi=200)\n",
    "    mode = len(np.shape(image))\n",
    "    if mode==3:\n",
    "        plt.imshow(cv2.cvtColor(image, cv2.COLOR_BGR2RGB))\n",
    "    elif mode==2:\n",
    "        plt.imshow(image, cmap='gray')\n",
    "    else:\n",
    "        print('Unsuported image size')\n",
    "        raise\n",
    "    plt.xticks([]), plt.yticks([]) \n",
    "    plt.axis('off')"
   ]
  },
  {
   "cell_type": "markdown",
   "metadata": {
    "id": "BTBIK24gARwZ"
   },
   "source": [
    "## Problem 1\n",
    "\n",
    "Load the image `IMG_0890.png` in grayscale and display it as follows."
   ]
  },
  {
   "cell_type": "code",
   "execution_count": null,
   "metadata": {
    "colab": {
     "base_uri": "https://localhost:8080/",
     "height": 657
    },
    "executionInfo": {
     "elapsed": 1500,
     "status": "ok",
     "timestamp": 1610478732673,
     "user": {
      "displayName": "Taeyoung Lee",
      "photoUrl": "",
      "userId": "07906618747313337531"
     },
     "user_tz": 300
    },
    "id": "BZvx9wcoARFp",
    "outputId": "eac870a7-d92f-4388-9fbc-66de6c5828d9"
   },
   "outputs": [],
   "source": [
    "img = cv2.imread('IMG_0890.png',cv2.IMREAD_GRAYSCALE)\n",
    "cv2_imshow(img)"
   ]
  },
  {
   "cell_type": "markdown",
   "metadata": {
    "id": "TLKh2PXJBMnk"
   },
   "source": [
    "The image size and the data type are as follows."
   ]
  },
  {
   "cell_type": "code",
   "execution_count": null,
   "metadata": {
    "colab": {
     "base_uri": "https://localhost:8080/"
    },
    "executionInfo": {
     "elapsed": 280,
     "status": "ok",
     "timestamp": 1610478850794,
     "user": {
      "displayName": "Taeyoung Lee",
      "photoUrl": "",
      "userId": "07906618747313337531"
     },
     "user_tz": 300
    },
    "id": "qX7OYd6X_HnY",
    "outputId": "decad7e9-ed6a-449c-d5f0-d37e013f111a"
   },
   "outputs": [],
   "source": [
    "print('Image size:', img.shape)\n",
    "print('Data type:', img.dtype)"
   ]
  },
  {
   "cell_type": "markdown",
   "metadata": {
    "id": "Ca0yxDkiBUso"
   },
   "source": [
    "### (a) Inversion\n",
    "\n",
    "Here, we are inverting the image. Create the inverted image of the same size, i.e., (new pixel value) = 255 - (old pixel value), and display the inverted image."
   ]
  },
  {
   "cell_type": "code",
   "execution_count": null,
   "metadata": {
    "colab": {
     "base_uri": "https://localhost:8080/",
     "height": 657
    },
    "executionInfo": {
     "elapsed": 551,
     "status": "ok",
     "timestamp": 1610479020275,
     "user": {
      "displayName": "Taeyoung Lee",
      "photoUrl": "",
      "userId": "07906618747313337531"
     },
     "user_tz": 300
    },
    "id": "HeOEPt5jBRGw",
    "outputId": "9c26a080-f300-42a5-b4d5-1a6470b344af"
   },
   "outputs": [],
   "source": [
    "img_inverted = img.copy()\n",
    "\n"
   ]
  },
  {
   "cell_type": "markdown",
   "metadata": {
    "id": "cmCEub5UCOaN"
   },
   "source": [
    "### (b) Save \n",
    "\n",
    "Save the inverted image as **`prob1.png`** using the command [cv2.imwrite()](https://opencv-python-tutroals.readthedocs.io/en/latest/py_tutorials/py_gui/py_image_display/py_image_display.html)"
   ]
  },
  {
   "cell_type": "code",
   "execution_count": null,
   "metadata": {
    "id": "qQKz_t_sB4Om"
   },
   "outputs": [],
   "source": []
  },
  {
   "cell_type": "markdown",
   "metadata": {
    "id": "VD6tpqUCS_dj"
   },
   "source": [
    "## Problem 2"
   ]
  },
  {
   "cell_type": "markdown",
   "metadata": {
    "id": "UvqL5-IRPz8Z"
   },
   "source": [
    "### (a) Draw a circle\n",
    "\n",
    "Reload the image in color, and draw a red circle around the lower-left exhaust using [cv2.circle()](https://docs.opencv.org/master/dc/da5/tutorial_py_drawing_functions.html) as shown below.\n",
    "\n",
    "**NOTE**: the default color format of OpenCV is BGR (see [Why does OpenCV use BGR color format?](https://www.learnopencv.com/why-does-opencv-use-bgr-color-format/) ). Thefore, the red is (0,0,255).\n",
    "\n",
    "![Prob2.png](data:image/png;base64,iVBORw0KGgoAAAANSUhEUgAAAGQAAACWCAYAAAAouC1GAAAAAXNSR0IArs4c6QAAAIRlWElmTU0AKgAAAAgABQESAAMAAAABAAEAAAEaAAUAAAABAAAASgEbAAUAAAABAAAAUgEoAAMAAAABAAIAAIdpAAQAAAABAAAAWgAAAAAAAABIAAAAAQAAAEgAAAABAAOgAQADAAAAAQABAACgAgAEAAAAAQAAAGSgAwAEAAAAAQAAAJYAAAAA7nWwfwAAAAlwSFlzAAALEwAACxMBAJqcGAAAAVlpVFh0WE1MOmNvbS5hZG9iZS54bXAAAAAAADx4OnhtcG1ldGEgeG1sbnM6eD0iYWRvYmU6bnM6bWV0YS8iIHg6eG1wdGs9IlhNUCBDb3JlIDYuMC4wIj4KICAgPHJkZjpSREYgeG1sbnM6cmRmPSJodHRwOi8vd3d3LnczLm9yZy8xOTk5LzAyLzIyLXJkZi1zeW50YXgtbnMjIj4KICAgICAgPHJkZjpEZXNjcmlwdGlvbiByZGY6YWJvdXQ9IiIKICAgICAgICAgICAgeG1sbnM6dGlmZj0iaHR0cDovL25zLmFkb2JlLmNvbS90aWZmLzEuMC8iPgogICAgICAgICA8dGlmZjpPcmllbnRhdGlvbj4xPC90aWZmOk9yaWVudGF0aW9uPgogICAgICA8L3JkZjpEZXNjcmlwdGlvbj4KICAgPC9yZGY6UkRGPgo8L3g6eG1wbWV0YT4KGV7hBwAAQABJREFUeAE8vXeQpel13nduzqH7ps65e2Z60s7u7M5sBJaLXYAgARZE0C4RTEVKZYUq25JLsv5yjUhZDn+Yssq0SxJdZUtFiWWXTMpMAAmSQtjFAruzk0NP55xv35yDf8/XoHvRmJkO9/u+9z3nOc95zjnvdf3yr/53/duff8vWnv/IyodVi2bHLTWescrJttWOy+YLeqzX65rL7TG/N2DBYNBOj3cs4A/yb58FzMXv5KxV2rNIOG69ft865TNzB4LW87itV6nYQG7BkqM5e3b/B9auNa3T61swnrB4KmW+Xs/Goy0bjPbt+Und7n362GLpCfOGvDZ1/aZlUjNWWnth1e0HVup2rGE+K9VaFhuatFqtbntrT214YsGm5+dtY/WZ7W0f2cjcgrUbVWsUzrj3gA1fmLaTzWXj161rfe7RZW5fxPydmoVCEavXqtaxHl838/hcNpAdtcJJwX700V/a4Ejaef633niP73Xt4+9+aPOLL9uDH/7AhidHbf7qFUuGE5ZIpK3v9Vu9UrZOu25en8e8Lrc1ui0zl8sKxbrlywXzuby2v/TIkgNRa1YbfKtvzWbNjs4K9rl3v2jeeDJnHlfXTreObHT+LQunPXa0+cSs6TUL+q3da5nXPMbqms8ftha/7Om62CCf9btda/Q6FuXT7YtZreOydqtm/TYPZmZ9Hq5WMxtJD9nRyYFVa21zefg9T98qxZo16w2LJCK8RsS6J0072jmxYs1rneKZeU/r1j/Zt/DLN+z2zdfMfy1nDx48taWtXWsFwly7Z9GBjAUCSRvOjVq7WrNysWXTFy5Zo1RwNqRWLdvE3KRVC3nrtTrmx5hazQYLz2J5PRYORqzPLvRlbD6e1dUzd7ttOzvrFo7E7NY771u+cMzzYDDpAft//t1v2/D8DStjZKGQ3ybHpu1ofcM22eS5uTlLp4YsHBvk2mHWoWxdV8figRCva9YK1q3b9WPISStG+JlWhfXxYCRty58V7fU3PmfRWNQ8X/6ZX7vj8TSt2c1adnbAjrYeW+WsaR5u3ll4Fp91xg9c5g8FrVQ5MzaVB4hgU23zejrm8muRQ9bodK1WLTmb1fMGrdGoWCCawsqytru+yo1ioh4P1+pZMBS1Lt5ROKvw+2HnMxxOWWb6gtVZMBfeF06kLNUq2fWX+fr1y9ao9+2oFrU21ymfHltiaNS8brcNDqSwvroFYjFrFQ+tUa5h1S4LRpMWTcbsZHfD/Gyi4Rn9Tsd8voCFQ2FuxYV1Ns3rx3z0UIZHc3/dVsuKR0d4ML/PPdx642378Pt/auura5ZN5azX7FpqeJg18NjB0T4LzaIen7AehoH4LRSNWtDHM3XljV3ut22HR8dW7VQtnRuxkD+B8RQxho6VzvI2d/m6TUxO8/o75s4ATy5f0kYvpm196WMrHdfZDK+1my1r9/lklx3I8nqti+lX2x1rs1hdrMmL+/n7PdyURcUSKnhPrdXje15sxsXm1S09MsmfRVy2ACy4sQiX9XDlJq7cc3PzQ8MWSCStw+scHG1YvX5i6fSgBWNJy7eadtp2G07PR92CdgQseiw3MWvhzATXMJuamjd/dNDxuvYJtgokRmIRPLRnmdFRKxVOLeALOZDb77TMjWcEMCx/IGDtNn8Hhr1uL3fmNp8HVMBDOu0m9z1uZwd7lmNT2s2KZZLTduXam1YuV/hezuLxiO3tbGKQHgu5AtbHiPa2tmxjbcnOTnas1a+bDyjrmd9KJ0XrVhoWw4jDfr+lR9OWBWK93qSND0/bwvyCHRVL1o0EzRsO+uyosm+ffvQ9C3UDFk0nzNUBT7HeOjvoc2Gt7LQrHLM61mRYpyeItXEpLVUFq3cDai5iR7ta5es+PIpPNtSHewbjMdvfXsESXeCqy1oAuR+s5f95HT59XuvxmsV80TzRjB3uboGUAUukhi3qB4MrR/biw29Zfff7tr09aJVSwhrA3vBwzoGagaER2+V3SuuPwPGE+djcQj5vydywY0C9JhuJ1bZabeeZgkCRn/jW567Bagda2x2Ps1HgGpDWtlAwxj11LIsxDWZy9uE3v8UmDNn01KSVaymLRyK29OQzLL9jSTy92WqwyQELsTln+7tWLZdteGoKb8ryfFFgKoVXtM2PJxJhuVYYowma79olGyYWN4FEN7/bLh+Y52s/80t3qvmaRQJpAlAfDznh5vESvNhNUO7j5r12F4uNWKVaMDeL58O6vL02N4JHsEda+AAW3WyAzzxQMBiyaqlow2NzfD1gW6tLbCSBFC9rYX3BWMbcWEPz7NSi0QE2q2o1LMgfS1i3XnZii/A/HI5YKD1sx4WoPf10x55tHNvm0R4bsGZdgnYCiAoAl3UwOBiIW5wF7raKZlj9QC5nleMDDEVgC1o5UBWCpISBGjyBf2tDujyHABnkwxPwDuJiRNBHwL168xVbXnrK1xvWqJXt+PjYhkZHHAhyWZwNx1CJh4nYgHVZsA7LHfSx2Rjj2emR5Yt5DLBuMchLPDFoboK7xwuUsuH5gyMbH0pbIAncci+rT55Y9ezMPO9++at3zkplG58ct0x22BIEygYbcJA/tmalilUR1Al+gUgU5nFs3r4XDGYRuMlytcnf+R6MqecGqogNrUb7fLfrHZu8cAEXz+Pau2wirIt41Cc2uf1AYoXNBdoi6ZQd722BvcQsDKBZqzgW7AEC6wRq3WSLAOpKjpgnMWI7e3ts8LKFIknLjk7Y7vaSZZNRmxvP2qXJrIV6MJcgVotnVHktWV4HI+pzrSDP4cJKexge+2Q+XtcI9loooN5hbVE8ugi+L15/yRoYyubzVYvEITMEiPTIhEXDYSsVKzY5PcbmwjhPi0B7w4KJGItN0Pb4iX1xNibCRvYhAFWHTKSScfafNSBW+UAlVsHimQGrsxldArwnmMQz+ZmLV1+/s/zohZ2Vi1CwriVgE8M8aC4zhqGF7eA4z4MQSHt1q/DiESxMVlSHITXAeF8oaX5goHgGvicGHBZTrhZhJSM2OJS1re1Vq5UacjfzEWQ94QAWfWSEJ0uNjDleVmfRQ8BATxjOwvgIDn1gRovpggUdH+6Bt2FrQr/jGEwyPWoXF2/Y9v6SLT/4oWUH0nZhrG/X33mZgAoxKRuedMp1S45X9oBgF9AQYAM8xAuRCR+vL+LS5zU7xI0aBhaEaXVZoIF0zoZHhu3JgwcsEovI7wQwgImxMSx7Dy8HSQoHFk8mLDWYsoPdbdtaeUp8AJLwvha7KwOLxeIW4boeXtcXgMmBLD42zItBx9mgSr0CecDIvW5LZ0kBQgnzXHvp/TvhcJSLwAQO8rZztA2U1qB9UUsO5WxkeMSy4PEZ7rq89IIX9TvsosdCKdiHWQBCP95UsUE8TLS3dFy0uUuXgYSurS0/I2ZELcTN9blwj5twsaG+UMwiqUE73t8Cxz1sJLmAGyaHEfRgJW5otSy7Sxzz8nBu4srZ4T55jKxzwUYmZ2z10SOgrmJeFvzG9VHLLgjy6ra+fGoWBw6AscLRiRNLtHh+XoPoTyAnZgBXboK9mFWllAe1ICl8X7Hm0vVrtr2xYo08G8qGlIGy2QnynrNDAvQZkBuzDpDWKJcwgDD3Mw9rjNvjR0+tVi9AdIzXLJLflKwNA2vWS1YuYSB4gg+ITYbx/gZ5yfEZxoAFAplifBG80/PKzffudNkxD5/CYw++XCIp2oHOnZVOhL7OzY+Ozdv0zEUHkrbX1qCrB7hmwtJDY7AsWAQJRyydcQJtm5udXrxgB/vrtr+xb5mZWV6lD9OASbDAUB7nZ1u4Sfn4lA0OWJWEysWG+EjUWmyYaKiXB+uwQIpPbWE9kNhsNG12cdHW159jOD0bm5o1H/g/GOxarFfEWgv27NGK1bpNiw1mLDo4hpfAgroNvAOPA6r8PKub+xB0erHYMsbmB3KUIC4sXnVY1urzFUtNjFmJWJYjOIcjfgjHtoUgN33uTZvr7nesjhd2eK3xsXGbnp61490TjGwHD4hikH4MsO2sTYnE7+jwxKbnpiwQDLBB5HPESB/pgZsNFz32EV88iy9/4Y7fjVth7YQ0cJBNgRYG+LNawGr9EQcqTo53gYq0Tc7PORbh90asAPfvshhVErEosCVP6+I5SfKCICxifWXDcmxkiySpzg3JKkkPWBQvr5WxKoFPLK4n6ozlG97hgxC0YS0Kxh02ALM1vywKulkFVhbmL5MQJu2H3/n2eXzDk6Jcrw652N9r2t0HS7a6sWFlILVweoiF+8hXhiwaz1qf+OYHev8q7/DC1sASNplYSVzJ8XNJaO7qw0cWBoqwTnDfZVMzM3ZA7FKe4WAqa+Pms8eGeMmhGrDLMrQ+TJI7fWGBn3GDJs+5bx9QGVBObV3iyZWXblg2k7Hn6+tWrBctO5i2IPmbyI7IkjJ2z41bX77jlaUQlLUIWrBup8niJiwymANCwH4s+nBz244OdsgpcEkWaHRyziZm56F6Pjvc2baTw0OCexiYm7Q4SVcTCGyTHPWQJ0pYlkNvudUWeUycBZS0UIHR+eDlrXbD+bpkGR80sq1cAM8QSQiQvfb4Pj/Ac/ocOFlefgwLaoLv58mlGFCfzaz2/IYYYp4Im11FkuBa9VrRvMBoiOvFWQwlbR7yEReBmJXgnpO4YRuy3rfR8Uk7O8PiMRKPtwuFPbaZC5fx3jOrFEqsA7+CwXmAOi+GovRAHy5cFHu24jG5Vq9p0wtzNpSdsOWHL6zeBbYwjrm5C3bx6mXb3T+y7fVNyMCpDQzCEgkBPgiMh/jZJTZ5br/15TsgBTjr5kb4xA58XqI9C+UC/8SbzwiqaTJUBZ/C/p5try3bGTpRhzwiwYJdJtOUbLC/u2+JTNZm5uetgfUcbC9bcWcHKww6Ny420+IhUsNj3DyBnQX34P7SnTz8jJubCrHZXX6mwkKGiGO64SoW2AQS5y9dcTby2WefQiSgsECRj6AZhC6HBgadTe1jUYPkJn5wvgiDCkBCAgGkGXA81q3aEBrSaGbIobnVSh5KmoMNkUyK+SSyVsSLwBmy+x0bmSHpJEgfwxK93GcHMuDCmhUHxKW7WHXPwzNIXGLtAAsny5daITSZvriIQrEDVJq9/cH7tr69bacnp46x5jJpW8OLytxTGm+UetADQTyvvv21O142uklQa2M5HleIpGqEBQdORA/55vbWjg0MT2AFLfg8CR8LF5Q0ogD6/Lm1+N0cUsLoxLglyWBb4P13P/xL23/2lA1LElfc3H+PIN3GrQew7LCd7G87rKONENdkA0JYuFsxBFopGGwAUQkRBmSMCgE/6Ak6Qt7jx/fYwHPBTgJhMJMCjhJaHcS6qgXwoiJQGAJ2B5LQSoLrLsQhCLtLkjTemI7Y1WvElhAw2MKTO8RIFngQVlli0/N7m/zOKQE2DYSN2On+gZPD9IgTPp5DhgqWOQJpl5QgqMSZ2NTR2rEufiBXrO3g5ITXdeN1E/baa2/aBhv8bPm5jfCaXlDnmHvsIJKWCjUrVDGMgYTFYJruAFDF9pAAdtGqYgTCGPnGmjVJ5XtYa5lg6+65zc/FcEygBJ0Llw1ANV1uEka+fsSGffS9v7AXK8+dYOwCKt6+/qbdev19KwHuZ2cnCB9kwSyucpZDJA4QGAbSslqjxuuEzikvGyEs7+FJLh6sBXS2SSQr0OYLly+D02d2unvIg/u4+ZQlkoNO0uqGOVXZwD7e0sOiPSxchftvQNOHRsftwtxFK58c2eHzjyyeRTEYmuZZ8PAucAxcZEZGrQKsHaw8MU+7goxD3JicYmMKYH8NJi6124d3QpPxhDbwKa+Qniev7oIGfTxHxEhGTSS2EJC2v7SBADmGNISRVrs2lhklEY7YwcYqRpPn54FGjLN8UrWHn91lE9GyPFgldB+XDKLPkKGCgYUzNkH82wNlg9XEoaxeApwSOckMEs4UA+rcWC8ShvoiR7AoQUxb1nv/3kcE/BMbv3jB3v/qz9lLN98hySKrFXSwCRLiOgRFBdMOFhpQDGMhRQgkI4QIlDHgqqHNYMPGyQtS2ay9ePbcSb58JHiJXBaIqlsU4xDvl/YW9UMIxCJ5SD8ewNaiK506ucaFqy9DSK5bs7BuncNv2dHGC6SY54h7QCoG5GZzhkEBN5sxMTUNYaBMQLwMwHzE4jzco3IMkIp/y6tEk1kPDEj+HyHHEK0XjQuxMY1q3V6+fZvcLEFJ4R4G37SR0SG8dZfyBTkPRtWFTbp4hi50sg9sPvrRA2jv21+54/WGbCAzCFtioXAjFzgcwUK5EskgOgubI5naR4JTLePO0MkeFxe7CANd+A2b5bbZeZRaLOzF3fsE/5qt7Gw4WD08Pm6TU3Nk1lN2fMANcVNdNrgj8oCFKs8Q5RXs1JFfktBMOW4NTaiKcvvKq68gTp7a2osXMKYs6m4GaULqqtuRSDYR9S6Npe2n37vqbNj6DvEniD+D+VrBJl5eR8bwQW3b7YRtPNy0xysFsmRkj9yU5QUvCKdh4HIoO2Zx4K2ERzW1WMgjXTc6FRsvFIEQstHsOUYhptWEKgumyGqg6+ebpNxoBIIwBiNdIk6codOlia1kmMTIiE3OTbOuHSeHkTG7e2y2kmE203P53Z+/kxqMUoc4s2ZZbIN1IdoL05SsSR4JQ33b/D08ELMqVh2N57DuGlQN18VlO1h1lBcemhi19bXn3LTHqXN4IAonZLbLy0+tjKQRAQLHJ9gY6hdVkqoaniKrk9gnHG6xgD0sJTpIgCaunJAITpKQDYwN2/1Pf2jxwazleNAqsk6t1rAhuP8ZdDMGRH3lg9vQ7bQd5et2ioeLMIhOd9rngVh5TZGFPyk3rOIfMngtwX/GXqy/sIPDA+d5+ofL9qWfgKDE/SgXKNtNKA6Zu/IYFwZIqCQ10IdKEcA2nthBonHhRX1c04EscopINA7FvY7mBvs8OrOxmSmMKELifUDcFeRDPFBENtfXLE9SKkMIgkKKe+6Ls6PsDlI4amyYdL7JjbvDQSAFHOaXg3hPmIsL6/tASBQm0kFi6ZFpKvFpY+Uu7jJNXtGA4u7s7CMhI8UT2ARrcWKG6igJT9x2N/fss0efUacI2623PrDbX/gqUDRGdtt0NKsmoqZL+Im1+VBPXWz41Myc7e/sYE2DbNSA5SEDNawyCYcXlS6hLnz1g9fs6qsXqDKSO1FFbMFBe+KHGIRDJ/C8LlDkDqIUI3IeEaiD4SR7ksY7Tnk+FOdWl2uN2OhlpPEhRUuMkkAfTY87yNAjNuhrPtYlyHO1MBzlDyp6NUlQWxhUXfcPdF9mM07x6CM2OkcMi8dCtvV8HQAg2YWc7K0QK/C21269bslI2p48vQ8jfQabLFOg+qmfu9OvdW2cMmyYhfTjru6Alw2oW7FKzkBmGsFtxKik5UfiKQI1gY8FFxuSvOHFdSdnZ21fecr+KUwJGMOaOsQLEgmLoWh6lM+w2BUo9NLDjx1PG4TNqZ4xAPXsYInVagVFGQ8Ed91sSJpkM4aRnAB/op8nu5ABXFu1lwHknL39Q3v3xgX7yZ++7UDeGSLWMsrAgWIghtWDtquG0waru4iiHgxINDlArpOiDvPpJx9TbSRpJKGNYKGJMM9SeWHLT1bs3pM9iqaIhRSopBBLY/Pwei44bJvF1OsGIgkYGNchYQWxga+OXb1xzQnWS0vLwHrQsnjCEbS5DoNzCQ3Ig6SUn6JQ6HdmLy7Y4OAwgX4P8kKl1NsC13hAX8BnfrBygN2sAkHlCt4QoyzKYnRgIEECFYZGMk1ARwyUBK8aSAVvGUhlnJvY2tyE1qKLAW8+kjQXmK1qmt8dR4IgOQMjI4MIaGg6hZ1N+2ibAtDYhE3iBRNw9pHGLNZLAkq5dzg2bbNXr1sZVtcFy09Xl9lb6C3FoChydw3yMIacoc1wY7X1OvdMRbHewAqx4C75RFPJJVYt6HSJekNvicE2Pztne8eH/EyLeHaIzhYjvg3b9kkLkbBoJXoCylh8j3tsEHtiGap8MLp2nawa1tWgiunm+/LQLjJIr0jRrtqzxYsX8dxB29lFDwRyh4czxL4zDLtEbBPQsQOKlRhmiJBQItnMQ8vH5+btzZ94zx7ev8uGRLAM0nvJCcqie11ltQEWLmIpZORDNkTxws9GAI8ky0AaLCPAwniUFOEKgzld+Jh8isWLA2+FMhaIroW3tU8OzQf2W7VFvYUWBRZPRaooXpHkFqss/sdYfgT4mJ2ZB2/nCOppJ+C5YHBLT+7bxqcf2QSCYk+LxANJqDzZ27df/MZ7KLNoUGTCh3tI2HhVOMEi7WHpP2aFfScKQ0RZkTYGNDY6AqT1bXd1E8UA2oyZZvESlzweL4pwfQ+L2UF3knRexQPaGEmcdUpheH1ij4TORpUGCrw6SO6wW6xCaBaIoWN2DBE5QQscGeY1WRvVl8KImT0Cumr32hSp5806cg1QjtXY2tOnTpx5+fZr5rn1/l+/I11fcKVPLy7th94KcyR9a0fjMIM48OHioeJRaCZJUp0HkMv4sbrx0VE6Ppahg2AxFhkhGWTHgJgtHmKE/ABJg1Jqv1F2gmGdm/F42FBooweZRfILJk8J98D2D7eRrRPOIonBdGAoLK+dEMhVIh6fWkDhrdrlyYR9+affdEJsFaEOfcE6bMIjSglNvN4vr+kAJWIukAxJ70GuNzo9ZZ99eteiqo3wXFnUbNHaMuWHNgTgBAYYYD3iEASVsI/yBTwharOjCfval65ZlVrIYUnxERkdFUEffgjERXSqEgF+hcUNgR5xCnpH6F8emICLCqrEyD4w58XYIaVOvuICEoOsjR+jODg8Bk4lqBKINnerto2be4GtDPg9gAWGyZy7wEW/TmKkxWejLAYn56EmeYjTMHVyFjlJ+4tEv31oYobsNs7NeAjaO8jXQK15SYTKJFhVYlIH+SICJnupmMlapP/IW8TdA0CdZOvdzTXLUV07Jg4VC1jazCxwdtkOdtYcNlRBeDzY2LFf/dmvO4tRge8rhwnyqZzjcP+EKtyQw3rE80U1gyjINRbr5uWXbG1llQAOEWHTpboGkCtO9w74MRYGowtAXGoFCltG7Z77kLFsb24heVTIrnPkV5SpgW8/NFhBQEWuyVuv0Z7UtccP71uYn8+QI51oM3iec12MmAopcAGd0gmJakC+6j2oHdyLjD4DhDVoFfIOD8QJ0F3LV+hxOira1t4RixyzTBq+DwQkCVyCqBZxRcqWix2XRN4nmIcI/kN4wFOSrD6FqgA42yFmVKhps9K48BTcmiRJWT83VEWqrmfVjkOCCAx2YCQuBUVMlGKiI8JNjE5QvZywrZ0dEsy79D5tIcxdgmGl7aXRSTtEAxsNue3iRbg8Mr/0MTebUSfxVJ9W4bjCPSHUsBHKZTzkCEWudYmcoI62tb99YKPQ0PwJdXcWQdJKi1gSIHb2eE7FkwCv6RJtJidLYpzxq1cxiE37b+78HxaGNU3RGcMu45VGnJjBwPwUs+5jgEDi7BRdO2eOMbvYMOV4klWUvYja60NNFi4xM5Cmh9rhwhgUYTxAm+fVz33tDohgA1jHEAuaRf9pk52fUtatsHvSd/Snlyw4SvYsEU1JnDpNwmBhGAzd2ti2GRZfAc3NKjSBuh6WEgQSVGdvEHDdZL64CHx7wOHtTSzbyYb08LAfqahVXnMSj3DjyktPHlsEOFMNZAWrbgKh8liPJ2Y/99XbNjAgD6rxJ7mRSsl47ubWLhraC8sMY0S8bofr9rnXJN43NTVln979zLJTE07lU3WIGDGqhFcFtLi8fog18Ds4TzKo3IKv9YknKsap2WEEhTtPQvps6TEFqrKNEo9y2Yztbe7yjG0MZ4ZklvzqFB0QEuGGLPUhPXo2QZUkmR6vGwpEMSDuDYgIsJ6qjPbRxBoEaW8RyFJN3eut07WBZEGMGE/TnoJ7ybLKtQqNXF2SmmN+kS7FeBRNJgcdTSOZIBJisTFKsxlyhD55Q4RaRQwltshiiMbW4OsulNQuvUyqHchTAsBi7QzaiHcoSfKB1VJ0VYsW5d3e3nQebJBGBezGxiayJKoppyw7m2pTMHqN+6nY2BjXVIqLsiAl9oj6toeYptimPgAvxlIvVezC9Xlbw2hiSRoxeNYGMDw5OUWnpnQxNXIoecQ6iZFqoJPm1iEpDKBdqe+rRuMFuG0+DPLmq69bfGWFuvqppSADe8joO1ub9FvlyC3U9GNsLMqG8x9uD1KoIU7NcnIQqR1eYN3N2kh0UUmXFwf2kaF4Wm8QZtHiRqTENkQDwe0wASgB9gexrgGsvssulmAU+WLZNtmYOPjpBTuF+brJcRTUIAvT5KaVjAX5foDX6MbCVoO5FaC8VTaqzeI0aRYLchMqu3aBKoc60/ekUucUDyj9aosNiaMKq9ktTJk3Fser+HqDRXr37Xkn+1brkWJPC2bHbeJIPdta33W6PepVDIR20F0SwAvT41Qb6agE1lwVGvmgmhOz00hEUFdEQYmDegEF4oB60Mhf+uCn2mZFlXvkDCE8VX9vs5F5gvzI0Ki9+uprtnXI9Wh0G5ugcxKiIuU7hzFfHEqxFn07JB9y9UW1FZEwPK6le1Gi3Qc9lJvIg9sNRCC8x8c9ettkd+R1qLkUg9i9BmXWBg9aOW1YnZqHAuIwLEolzIXJURuv55AVSjYKrZVFlfCQCgxlemQC76BtBw8Qlivr9vL9GBZIDdKy6kzJwmLYnDDXCSaK8HPYFpG/Q4tpHKiM4X3rW1tWg0bGxwfwGMUkhENk7iZJ0xi1jFeuXyJzr9BiNIBlaSMwQiBBwl52ZN4uX2tBgXctwYZMos8NTU7b8javeUorK8WnDHKLNBBVIFXSbQs2iJVKGgUp2li18mgD1Gegn1G+Uec+mrCwLnFlaD6N4ePVVEzHaYZQM8Xqo7uWAAJHJsL25ttXHBnqk0dHtpEvO+shuitYVJVRhTc1kPRAH0k80svUKJhDp4NYYebguTJjyeF9Al+YKloVt9UPu7HkI3h1bbNkWWhxZjhtiaDykK4TW9osZh+3fLr8jJwtaEPplOWgjHGL4XEkUTCwnhcI4GGj5CVB3JmdIrJdoAHhmBagPQK74R0jDl6vPH5Eg3WGjpRRYGmHXtk0sadje0jUv/LVa8SxiJXYnIXYOeVscr898LcEcXiOND+xuGgz9VliTs0m5q/YGnFl/cWS+ag6xpNZJ5843d/G+Oh+IS/ySv5QCZsNwA7ZGJUiiB1afIzFh7W2gFZRVcVD9QoEsO4njx/yGJRy9R9pwhTiaSd/RCzF24bj5CmrQGPDqVAKq9RapPWVIKmGBjeBvXuofOk8xchg4HNz4+aVlk+kdr5RI9BwTw535v6chRNX98A+/HyhwsKcrpAkAUUe4kGJrowRVMwWCmqFILdH49und++St4QdaSJH8ShJfPEBR3oYN5agQpWy/jRJWRirVtdin7iRGBmyHz34zMlrlCscQnN7Hb6fDmLNBSuijl6/Ric8tZEE9QXlF4ofYlPKG/Jba/btb35kN16aseHxUZubGHHi0v7yMpI7dQ1ypKmFLNR130nYWniy8ir1WQWJcfJE0VQJhH2VCvA6P5AqQwLiyX1q6FJjiIIZ6j70hVHiHh7LgSgYM081PjNvfTZlNw+k3/3YllebsE+6UmBt6UGawlM+lASSbGKpD4NUfYWbB40QZjHiaZjfFuIjeQg/wE4rqVMpNQScuFnAMBvQwXWdPlysy8vDq9LXbxagergpydk+UHCcJxchPkTRvKbRw8ax7gKB84Bgt7KzRT+rjySPPic+HSyGKbXxvABfL4KhonsLdKz3lJySoyx8Hlljb4eKZYna9DUHDsX9b85lbWI0Y+sbZbQftbLqeUTDVVI1EsfSeadHi2SSbvcKlcsq1PLm628TdFeg9VU8nTYiMukoYxOE8vN6topOCqfEjoAsHjbZbCLysTvyPDVKN0pI7MDp6MSEbe/sOo0L03hwE6W5imdKozs7PEJ9GLDT3qD98Ud7eFebcjbVUlKKl6bQ3tDkPnpasAPUZsW9EB2dHjYlCEu8ev0Kv39Ao3qVdcbSnOILWO/GanosepmsWd2JIXKQJhYsC1ERqS+xEPcLIc7t7+44yY3aTI/Y2YPeriMijhKYcxSTEnB8tWCegK8H6EVLWGp2MAVVHHN6cKUvFWs9ixM8Vfk75OcWL8zCxvAgul1ysyw6hZt4wG2rWy37pZ9ccLLdCknmzMx5jd7p2xLOs3DHzLIIfqJI3xMs3MraKrWIdUYs5oGCSZvBk0+RW3Z46AIblkb0E4vykydJb+PBgDkJDOC7Fz9WsY17bEpIZcGvXLhgx8j3ZTx9jFJ1A+ZVRPZR05uL9VA8LZJgeoDk6NA47JM2qv19u0Rj9fw1+tXQ2dq1HeCbUQU22YcxxTDkCzc0PlFEw9sHztWXRR4ibaYFXKk0qUa4Nll1kMxcmpF6lZAzHTGxQbBWq4x8e3tnB4YgiQIVl5uqszERXqfJJhzQU+ujnqxqW5BNzUGTs1iPCk73wN48XqVZiCZUbwJxMQhkdTEGp/scN47zUOVSyxZnRu3mtTnn5r/ywU0nFyqVOlTeIo6HSFDss3Ae6N63v/fIVrdP7PbLizRI1Oz5yroDvzi2g9lbuxIyp/jdCdkXz6qc5rxKiY3xHF5iHhZKTuLB67QWor814sClK5ccHWx9Z9thnWoNKvKMEoo8BGcXLtphnZrAW4e1U61nYGgM5MjYyfYGn89sfadhR64YsYg8HTRykV7MYyh1xMfVtQ3GNuj3BZo9C5ffuDMInhexPDUaqIivthW15wSgvnX4spJBn6QCXmySxOoIpbSBFBHAuiSBCDM80Nv4AEkl0kAHrKzw4gcUpySwqQUnSBDLjEzYzBQZM1YWZsP8gEWURuQSrxsiURP1lGzO8zoxYpi2nVQqYVNjGbtxddI2d+pgtx/3B3/5KJebZP14Lizsd//4QxsjScvRkvnp4+d0mbQtzQaM89BtqQz8+5DF0YOrehmLDzpN3WohIjV1NqeHqhwi5rmQNGpSfIHe2flZhM8kRnYkOLFBER7ihNRkv0rZUFhNjSlGqvbuweMFKvmDE+pCEUtPLdjGkcsePVumK5/CGjE7zHNOjo8htxN3qR+F0L1qaGRtvudu8ZciVHd1Zx3ZveZ4RAMYUDBrsTLKWFXR8+EVaVpboNFYEoUrNkjFJNVCpHV5GH1r87OaA1GsCKNX0bBpZXj6zt62bWysUxfYBFs7Njs1i0o77DQ0i3F8/P3/aPcf3CVfQUPCKALEo1w27agFD1cObZhAqmsdII8PDMBKfvzR6cFY8Og86vJpqWfT5Byb27u2S640AB0dHh+GLpfslNzBF1UzYJ9GhmXbWH5BbuWysbk5xgaASTz9TN2XMCsFWtVeTmnsExooOT3k97uwyQjUvMrPSfQk+kO1kYXYUDFJTYbxyw4Fd2FcYbQySfsbJKQ5IHTx5i0otdt2dyhajWTg6g2axtexZeI0SrhaimJyiDe++PN3ClzkkMB3TN6Rp2zaI8nR9FECaxB8adFE+Ico6tR4IU3/KKBq9qNDy2aLhC9GHNBEUIsArEStTrasBw1gDaKUBWlG0Osz5Hi9vpuvRZE0msSrKFZVgaHdf/SQvACpHHVVQlwyAjWFXd2ib1eFoZ2Dul2cRXVmMcXpi8W2JfEWZeH7xy2MwGc/vP/YpmBsYVp+XEg1HeAjiBSjTJzldsqrHaz5GPzXawyg2cmzFcAb5EgdYkiba/EbUNyLMMe8FbeZnyQmqspXg7GBUVQfYRKUpZsspgvIpiICbedbQB86iMMApXFJxd7bRUGGbSVoAZqZniGGUjKn+a6J+n0x67Zr0xpYAqYZTvJ89Rt/946HRbu0cMXS6hIENzVydsbN9bkgduAkPvxhqdERcocjNonOEFiMArwWVI1jfn63gnco3NYZZetBAsT1NYfYE6UE9qSFyZ8rwMEAUou0rS6bpPGBLKwljoWsri7bwtSQDdPSeVpokZMk7faNnO0e0gOFGp1NnecfLdhhiyQtTv17ffPQdujkELlw5jBEuwR95EFBeTkWHASqAsSMNlRb6rBin/Q4BWoXBpfA+0OKazybWnNmF2acxHVraQmqmway1QPMz7IQHhBDYmGbtZIOJ1lftZG+Mx32YzrOTzbJ8lUQ06TZyUnJpubH0OcCeFweJGraMR3zP/nejI3m0vZ06dAq3JM3Ad2UBhOPMG/BcOZwZhxVlGyXXiqPEiQW4Xf+3/9gv/zFL0Et5YIruPpFbgDtheCpdsogeUFf4iFB34Wk0oU9JcFX7sSqbK7cUV0bDbzGRU4zReNCCJfeBdNHqCBKnBtAss6SHA0Q/KME1iCK7miOLpCkWo68dnhK5+LkOd1lNQi40sYEX0ArSeixFFske7cGg5R9A7Eqr4olqi01SUz0QTokw2PI5AIYn7uN8QjHd8DzgtNvrFalNJ3yame9jxg5yP24BYsH5C9aDzbL6WCEFEhA7UBv2Xq8GmKEIbroIJErdrQZrJF62hT0X7520dnMY+ixF9pdgtCkmR7+9LMDYO7I1gtspKuGdMLOhuHeVWCowd9VGRR9zHnpCMRyPWTG3/jgS5ZlEZcePXK4+87OCrAjRqYuPbAvM2jlPH26uKiw2avaAg8hOcOFJUhWdrOxLpicoCBBrrJ3cIjuxNjCFIMvXmAB2PNRtawpOLKoXYKVGyh4/RrdL2B7odrGw5Stnn/0nCY3dDgpCeUWuU7aoijNmwRJaXGYLwaBFES5WAM3Me4N3mF+IDcAJLVQGrrcuyaLxRbrtBvt7D21RTJxiBsqNz26M/PAY9f2NzaAWJdTOBMqiI35gC15oai9au4eOnM0PKvOeHbFaSn1Ul7Qc8wujDlC7NHpGVMSaQRPhFVeJwN8YUa2/OyZc00RJM87H3z9TogNUXLUI1g3wXBV+NSn6OXFhINDBLY48SROcPUSsF88uo/kvoGcsUdcoRgEFJwSe8QWVKdWdSwAdVUhWb1bqio6PB+PGsjQ8AAz2d3ehFVRo0ZO8cCc3AQ3tRMpIZRHqNHMQ13+869P2UkBSR8ePzOheY7zj1oZQ4ipDlK3h8uUSYFdHzmLJqBUR2+zUS5BK4ahRgmJiBI/2W3HU6ShabxMsUPx6YTrTvEsYxCBH9x/yKLXoa2i5shHxETKFngEBkP8U91DsyxKLoVJavQOYHAdEj5l/A10PBlVAwuYn5tAC6RnGMpfKhFD6RHjBeRTTkenPx6E+tM5WYAs0EznefX1r9xR3YLIiwKLt0BPdQMqsXZhEfqIg7+qJrZYUC3w2AS4B59XAQintOX1Zw6l6wENTR7ExeJoOpWdcBbGad3n5tA18TSa5SgO8YMWGmSuESudBq6qQEuNrFdSi2oZRSjtK1fGSRaH7MVanYqa7/+nuyIUFb4fi/vIwJnePUM/wiqlK6mBLYLI50cM7fJM+gzh8X7uR/mSI99AU3FePmnuZvPPCNSCsxuvXOda67a2TlFsdswZ2VZFUvX+CGvQQkQ9yzMHiOep+RoEc4iCJHpNTDVgX1V+XvfRwLgW8P5pXueITB8ZkOCdsM1VZvFZiQHGtbvE3+1dKDTrPT7DxBqby52SzLEYPtxll/wimR05L6h4CKIEOelEYhQFAuAeIqOHTfNJNscqpi7RmknGKkmlfHZAk9wS3hKwIVqGaiVG42anWSBON8D9VYNXo7FGHirH9EJhtbJMOglgJszl+RmZw4qJf8ADNXDm7eanc45B5Etdm0d++KsP1b6V1PFctryxa0828/bGpTniGeVXrt1T9g/0qnn5FIts8OAqIGXxnh4eolEJFcF0nTyWKVX35qvXbI1MXm1EX3jndZJLRFE2XhNbtSL5EVl1nDzKTVauxoUK8cHPPcpzWtTu215UDSzfD3Or4ThTZPMzM+RshIJ8vmJl7NMF+nR45ii7ox7hjovpAca8K/QNbJEYD4/RiK3e2g7W6sGqmmgrWrgOzQQxdtyDdwVwlwafbXY+BXUTRHQpOnFeAK0xVBETISyV8u3CRbuAunoInVSd4OMf/cDeI2AHI3Su7G8hw8Tp3ssSQLcc2PIDaSXmFzWCfESCNAjFrbH54o4ubjSDBY2PxuhMFBFAKY7wRD/+UL0iBMXVh06DWN5YoTZTYRhmyCYysCU8rC62RPIZSmJwccau2fhTBEJWn1Fm4hsLUoeEVGGTly9fshIW/Xxzy27eXMS627S8gvfoTG5yjwZpQRlaPjAyxuAnAiMeo7lCjT9rLrHRoBGEzQvghXnWZ3hyzC4vzjEDeQAU0rGD4WhO/SHz6mKaUQiAhFyyD8iL2q+oRwF3+3im57V3/tqdtoo8WL0HZiQMJKTiOEwGEVMGuLgqf/vECBWWQkr7+VkvFtiFLnaBIjWktcjM1QSW4AHGR8ZhSCN4GL1HBMDf+fM/szeuXHYIQBnYS5KBt0nmNOTpo05SxkqHCXZieypCdZkqujCVteuLOVvdRPAMeGwkd053nV3AAgOh81xkaQ1vY4LVTT70aOmFHXIfQWLUIPcRBTo9wJMPyFIfsRvFoCXoxUvVVV+ngDQM3VaP1PPNPZsEOrkU85R5UAKBFUPj11EEzsirYGQE5S5UPYIml6VXS6p1GZW7wLNkia/yTqHFG6+/Yuts2N4hGwZCdIk7x6BEEvYG3XBaVP1ifTBOxVkvXhOE+GiSwPPmOz97p04yJ1ak/tLTkyMLSxLB9aLElhg6Ux7ZoIZuJFxUhU9UT8kZBIT8Qowcmgc7Ev3r8fBdfs5HLEpy43EStAUWO4rlHkKbVZFTO768MobG5XHoIQEWS0sQ4Lp4abnrtZ94jcF7VN37z0s2O656/nlDslTZ/UNq/TArNzfwHIipYqEDNGaMcL0+QXhpa8t2sGjJQCmu7yPJ1Cx7jMWKSgjkWevgfwSjSsIQt6CiIRYjFQ07TQ+KhQlESpEPqdoNFlTHaCir1uE5ByS3Lih3HMEyxsbTGAa80ZSDcb1y6zIdlYK+Q0slKRNgkMcovJosUHn4DAjE5R0pSSun9VRNPYSRC4M9i9d/4o5m+iR3hBhUPCKrDGJZkohz6RTW1LL9I5rdCFTaVTcydAlc1Fkhau/xkmdIbNPIsvi62kfd8HNxbwW5SDSABMGI9ECOxQjSGfgCeX2XReEBeejS0QkPErV7jz7h9bBANR/Q2vnF12ewasqgR12yc81hsPN8yGILFKvCga4V6Ed+tlEkXpWdKqbKpBk2ZQwDwAVsdXfHdrFq/dIAcCsluAX2S19Tg3Oa5xPua9E1hqf4qMlaNUsr6jf52RYFMKeqSIcNgQvug8ERh05IkIUccQw2DBwrpl2+NMXxGpu2hNyTVuJLYnoMnQ7SKxBhbdrkTqqbR3mtCGuh8KBimLp3NBej5/WEp1++U6W+HCOAR7Cm8iEMCBeS+plBrNvHqo+ZtQvivl5epELXRQyZmIjsHKWhs0P60McmUCFL7JDwqPfVjx7lhdbqWAs1PlTQy0qwq4mpGUshV8gT9ki2FK+6tGY+f/qZHYDhv/svft/+k6+/Z2/cpC6yz3khLELux3DFvkNDKeniETniyxGZ/CNGC7xu1dXFAvkT6hfBejVfMgQ0qmHuBfCRx8AiNDmE1PpJwE7AxjQQ2ub1Izw7YYoSL1AFs9QJEuparMAAJXi6iGu0ajjsSYxKFq4WnyKGury6QaxJ0p46RkxiBIMpXNXJpfqecR1Nd4VZg7LYJ2mEHy8D+SFGEAWor8/h05ouBm74n/v21at0743ZGT+szvEmMPBiZQkIIfFGRd3d3ocyMumKO1cIYh0u4seaCoh2gi31ruqFAzQiNLGwOl2Ear8pI09XkQgiLLybnS/C0iRtV4lLflSBqQl6d6fmbX5+BgHw0DJkr5NjQ7Zw65bdWJx2vOHotMXmCXVl5AJGzasw5M/G66NMDFBQ9iIywnopUFHTZwEVp6oYQI+Ar/amVy5xphXGtLK5YXnRWFl1CoZEFp2gySNGdh5BdY4SjINAUAGIKrO5GpmWJyt5VhKpcWp9KIFui00hTvjJ4cbTCIknx7aODJPA61SF1FpoPI/ASF8z6gBr0MbJ/IwIiiU6pQu67sX4OmhYXTylShx0B7DiGdRIqas+YGGUA1a8BHcfvHt7bw+GdMBgZJLGAWYdoIWqBSt41RHHlABJNq5QxqzStJanicALWwoh26uW4IYOtmAdGy9ecEoPTA6vU/1Z1uvCTaOUgos0lT19+sxGOGGnQnB859VLjD6POi7crLtx7fPF//F+QEdRY2FP+jjJM1PIPWt/AuC9zrzSTIgLvBfklIGUE+bti3RYpkQ2KDP0uOc2fQQ7VBiDPHsCthfBosPc1wD1izjCpB+L15iBG4KjKyk2htkMzdjXRTqgqLpXtfd84Z2bznNtAWE6tukEFPDQBjXMmoZhqmewuxYyi7SwADmPlAUIGa9L/zAw1WyhBxKzBIsRST9V2EODQKlGaSVNkthv3X7VRsfGwUW/Xbj2ElZVs0cra/RvHTkPur+3w66CtyQ83/ipd+2DW5dsOsVpDVhpDZl6D9yu4vISDKEBzLtzYACeUSap7GHKZTSfCs1t+gjRvHzt5gc8aNue001y67XrDI766fNFEARSIuHzxccdnZ9vt2h8iwJPDBUVwGclaGIyfsEP13JYIvmFAqQGafxUBb3EAbV2aqZDYxdtxgZOtnapU1DVY4EjbGYECPKwoBpNG0cmSlGTV/6lE+eUVOqjxzOLfZXYjCqv+c7tGygMnBAHckQE0eQ/XuBaXThCmEyadiTGN4JMFfhEXnhGN1DvAVbb7IqQRYihemUExUJG57nw0rt3QliGGxdUF50GWzpYtqZU1VAsqqgeWdFZvM4JkAfbG7aEZvQ52jl/5utfIqHJkrhN2KWLYwRP5AY2QNaq033WkVjwfZrKhrEgilpYXon6gqxPHR1+4GJoCD2LfGRwZNqZhBoditmLVRWjaB/KnMOE9kMl2x0qb6MjeCkFok/urSLMERQVA4h7mlFU56EaMpzzTPiaegREcfW94TFmSk5OgVk6JEc4LoS/75CUtfl5jZqFWVwxLC2MFO80YmcIa2/AIOsgQJ/Fq9CbVgFy3mYz0tlBdDRgnM0p8loaOA2zgTVeswTRCMCssiBPhNeuMt6hgVAfTegdklRlwKrx1Kjfq7VUudXMDG1A46PjPOh50NIUUAKBL8eZhw0855RxqwYvrI0RzCh/UC/s5IWLVnu+Yq+8cgMWJkKjjkWoKdNGGV7vFerEkkeeLa1Zm1m/GkrvOmJigsxZWoO8RLUTkJ+4xekF/DtIBe+lqZxNT1K84aNUZr4i92PLlDUBKzUsWwkdyIe36awuBMd4HFwWVFFH4d79GJQMiLDrJJR1KLg8fGbmnLUVWKwUVcUqDEhySBJVuAAlLpG4DWWT9DNz8g+er8R3gIUUC9MBCfHkqR2sbZJgtuzWzctoXgxwQnBqQJIqrMRjJ8FTR4kPOBaM763tWnecPi7qSLMQpp2dHRoZ8C6CT9NF3wBUXZKLysXXLlPKRjz1pghmkokbZI59XC5K8qKj7Q7W15wSprq/6+Ceh4ncCIe5SAw8K/ftK2+/aReuLGIdQjEU0LoSSocZWnoYkRFMvHFx1t59/SZ5TN5WljZtC0X34TYZLhYliTuOt3ihyRIVuX+7NM3UVFLVOu4HGTuRON+Qv4ofdSa9BoAzfWzuUSI+PLVF8F7yvliSmjWcEyDYdPU7aba8wDXHya5ljdvbuzbK3IaPH1YdhJVD52JIifsokNmr0tiEiZGe0bDN65IrqTlOaUCGg3i8qBnjs01UhKBtU54+A549BHv2H4giCUVE7UCJdVZLVIuN5x1yKGcZj5yilDxzccZOdk6hxasYGEEeLxRsvXSRKS1OjvjkHozxBItp4ZIxMlgXXR6eDgP16D/MVNkYMHNMM5tKsRHpQqeURrm57ZV1+8ZrP4XV+LBSnp6t8NOjq0ldrkSgpn4NVR4HIlIkd2pLnUVoK1KkufZi0mmCeHF04owx5IXhcHuVbuemyB/42KWBLMIc3V/FD7E5fdSgu6lB3IOPCsnso50952i/LJubIfYJn1WHUDVSGesZUkkS1qM8YWl3w1kkHcCpqdsw9FMi6Cl5R41T8XTslO6jw9+7QQ7gwetxboI5/WhQVjqKLMdoXmrKYycqVTBz4moTE2WsvFYUeFTtPoD7quQNVwYJmBijq15J86OHz2xinM7PiVEC/CyQf+DA/+IsA64Y5ccPYLMyhTe//I07MnPVAOB2tN/HbGf//Ji6GHAwkBrka4yhATt5lE4vFxmEO3/w7m0uToBiI4mdWCCbySKEwiwEdQ5R3WwuxUvDJvh7A8bkpUNwkGP8hlKqXTTsBkE/jicVwOUY2tUHb10kT3Db/RdtOiBpDWXx2WLH87QnW3vQ4EEkB66ze0gdgk1kRWxtew/IIeaAxS4WRiVjBXB1IWYJ4ls8Tx8PydAvfIYSodxGEkeL59XAKQEIKotSze9IoVD3S4cLVrF0qdyCxIhYGPMxalvtecIUrphzIWbUiSvSsPq8Fo7qGK6GVcWaZCB+bRSvJQVh/fkGY3MHjGlkbYocbzTBKUhs9r3ne3itl+NJOA9gj6mlJJTOh0o7wOSTpPjanmT0Bq0TqLssuvbKS/Y8A/PSmbuX6Z9KcdKo5rbVJSKD1FGAwu5CHrjhNDkdyKWv83y0mvI9ZvBqwJrOFNE0VCqBtRDMJ9i0xdFT6xCjBoCoKrS23uRAr4Suev77PBPUUPBDYQdP1CxIEe0jhQY1zHUy9ILtUHXchnrqWFYfKxMgFkxRhlVfsMhAlr5ZNbYpHVNjhqaE1TV5fgAmcMuiKfArf1EbURR44kBKO4K+D1ERzeZ0JjG9ARyH2CWXSEDZI5OTGFLKDje2OC2IPmiITwg1oyqMFfsjhYJPOPdeJFVo8nU3MajE8E+K2k6Df++ddJ1J3EgMIgxl93o4TuOEm3DR4JyYYxSAKVkdIqlZcgV7wZQCZ2mHo/Zo79EQz5V3v+rQur4SgB+bsKh/B/gqFrkDqnmOOCs0Y6NoZnGsXN2KJa5VKuzbzORLTt1ejQlicIEcY3B87B3r8Bu88Mcb4lAefrtM53oc2Rp+4SSHR0jgWJGzuNKd4heR54khu7sH9sN71Krf/xyJKGrAxh6zHRkMQsOa9JvhGTpWr4pnqAFDM4sqQnnJ9JXVO1k2SfIxI2bqb54YR90dT9kOowu1fojuTGo40PcKSanGvzPAJcUhStdk9HirytTKgcJQXTG1GjuiYz7KtMCmhgft4jxz+gmO3UCsrXJecSZDT5rWTa1XMAn3hUkmlgh6o+z2QCprTzm9pg4f11zHJpujc0tUIZMbVvGYSQo/aeZI5J44olQE1oxiDf9y4d4ULxHS1JVBgUsZKfcnL6kTAMEDbkSBdcH5+Q7NzuWS8hNq+qnzAL6f79tIFhXYEducPXL+r0pAD7oR5vgoFqgrcAOa/TjjzJAOnqqkU6quPPPLX/w8En/UfvCDj4Alzj1EIzumtdVFTsIjM6sIE+GmpLIK8yWSwvsd4VNQpX4B50gRNLYpWnaW1/bInRjghNo+WNl0zo2MERdd5BWFI3IuYGtigjNVLi5wYgNnsCge88wNNrpwWnD6fzWRuzhPF+VYAtp7xrQa0wF4UZ45k1AcZsvhDbotdxLJfEBwNDpCcPLw97hduLQAdgYsFqLxjdhxzMydMPaQUxJefe0aqrByA2Wc3Dwewh8Oy2lAHT0sQAosFH/QoZcNqjW6kBKmUn6LX+NwZWoAfTdDNSyGhun9dLJH4uA+8eakyHEXHDuuDwxMsprzcffeC+AMesm+7nGEoA4WiCHaqRGjRvtSie+dcVq2GNEUHY9l5JsoMeMEmMzFFOMAAEAASURBVLr76CkdLOQLEAhNbukIcMU+9ZzpSBAvNJUwosoqhifjYRIZofXG1QU6TzACbqKLQaj31wPUPV/btl28xIcqIVYXJL5oY9Vum6YpIj0FxQY9DvYOuR7NDMD7ReBzgYph/nSPMsEZ3kmehnSia25t7AOhLfSwtPRCRgRoEEhEE7Z1Sjs9NWWJbV6fjkfiSA1Yh2LFITHlC0PjnKU4rVTC2QA1JBNf5RtYfB+6WoRCgtIsoqhou0FA02YweyIWdXxQY7NotqN5O0LMqFMnF0tLzpxXA4/ytPawIKkEL8qHAqzc/8MfrtjuXskuMzNytkvlEr1MxF89VGFVAQmgh1Qh1Wo0OczJD0eneAYd6Vjt8T5FsCkU6krBHq2tUHfwAocMc5Lw+YkR2gwP8oXymy6d6Mq/vOh2l6HsFSBabUOa9CoyC6LMXUFaSfQhfbx5ksARBpqG2DytQLVI8Y6Hz2CQjTHkHwV7vGiEnGV+ivOLd3bt3lKV2IfmhmSjDnuNiWtw6YBjY/3+AfPqUBcFdEnjWoAB2EOIG1UdRCfsqJLVBFpcNEC/NUkBx2lYAK5pKBBcytXVnFwsQgKw1tQwTWd4iYJ8E+/QWSOCkmNqKqO5CHPiozAdmgHYZDVqi2onM+cC4u4ps3wEt0SUx1OA42afPOPop4/27PJ03370b37dZl963wrRS87ChbByhbEqSaISxwl0uDz3qTE7HVBQ4UikKJ6kxu+h/iDWeWab1Cr2UZnV5DdJ+dolK+daPqBKp1NoYy4sTLHfqvuQXvK1IjKQztRS/1kTui3ZPMiGhsQQiYlsmw0R5NUyq5O9V5Y5cIBNnL54gWkzo3Tco06/bZ8+YS5xOMZ6cy02Qz1jPTZQrVHZgTBNivQWd2BAgykdE45QSFd4nmRIwU6nROuA4BC170AvTKND0gbILg8+vW9+KGqU7nE1SWu8V2ylDjcf4OFgejJdSqVcjIsqY64TkE8Le/R8jVF9U01bSRFzdWTE0SHmCuNiOD0DiWySTj521pG31zaO7Y/+ZMUuL0Rt6bv/zkZ4gJob1RkZQuNoHbQ2ZdxNYCVHzqM3BqgRiCdnpvHGHeBSfQEsADy/j6ornU7HmMuTN6lb7GPlOjZcHSYV8FHTUovzU1iql7YjuktIFvUOBpLM1UMsiqv7lFG62Aw1qGPnoInPjjkw2U86oHJsnfvrAfUJjI0ddGD4Av3JTO5ZCUNlZSjMaX34lDGwkedHoNPkoFnAMFW0FaiomEdUiRA30yaYt6FqqtAdAxFvL87aws0rFHCYT9/GXZfXLQdWV07A/a0tguuho/k8hZvrLS/iiRmSTRI9dmjjcJ0NppO+RT0F+UNzewqaGrgMJs8z70IJmbrhYZBH8YM+Xsab//3/fZ/a9JCVN79nTVTnHtQzTwe5TuDWVIcOLctzrxNshs7wOkLVzTIKoRYiZAekezpFsGYdfCzxkVlmmBQFM6etiXZOFtvFZu0RqMMcUfjyDTYDuf2U522x0S7g2ulrlkyOTCMjchgURqiaj5JQne6j84wHuC4mz1oxjDrOyXrhPmpv3+6t19HjoqjIMbv9Ssg+ecJIg47KJb+F8iBJQTSANZEiP8V33qaDOMBNRdn5xNgY1JZuCyiiLEKJk46NraO/hCgC6SM5lASWdCiG2eGDF3a0ugHuV5mN2EciObY1krBPl+h/HUMofO+Ldv3SJXIHDhrzZxHXuCxWrHOohLkhTf2mtVDG+2c4NIAWUugigeT/+p2PmZQllylzyPOzx7Qeoa+hEnNqktPb5MGjRShSSOoJ5I6D/T2HnjcxohJB3jlkn4RO5VoXRtJxrL1K2yp1ByqNGpYZITmrcY5Ll7bY0YlBkIH7gBWJaKhdVrOHfgiIxjAkuweIN+pfU7+VGi+CeINipc6531xdpz6fIT6BKmGpul1b2u5hIBlYYcl+sFy2Gwt0hk6CRitrwDVtTCITgCMt2g6d17lZntvv/rU7J1TtqsxsqDlAh9DECWo6EF8ZryBH2LlP7WF1Hf3mROomCwvjaNMhXmMwRacRVJBb1ml3uX/KIQT+QXQer/3WJyccU9Syt16adtib3j9EbEC9vn0CUIiEK0dAlwvffda20SwtRIN9++3f/g75Am/EkqrY0z/8t8CEDwWVa3tRXy/cdvKUHQxA7wly5fplYAuBDytTT9YhMrvq3yox65hZzX9LSXWO9wZa6nSrO2VnoLWMUutmUa8szrOQnMvL86imUzgmgSQxlErbYoOrLLia/6Lck4pVIjBBEtQunirmpn8HOBJWMkoYA1fDCHZNtwnbh9UkaLirUxEsUYiKKJizBtw818ZjiR99yITMURO7ni/9p3/rzocff2YFGrZqeMTq8qojJ4hbFyjIB5S4QYX7bMoxyeO9zWO7u3wELnLwCofqJ5BAVtc37V/98V37rY82Ob2HbJxW0igNE69OcAx3hTag7gCHT6L9lGkOAKd1GoQa8YJZcHaQrJljoB5tcExrxsNBLI85F75tX3rvssXo8Bif4RTr2Rmy8Qx0ctF6MaABTG+yEAtXZnkY2kc3t50OywJMxY3GFIYd6h0L1CSnE4A0sSQxT7mLznJZJLAOuqv2bK/KNDHz9iySYkMVigqsw7I4XAYdTO2tylUUJ70UxSRQClAjGK0GQVXDUbxD90C2CaHFZTGWNg0OZ04ZeCjNhnLtFh46BrOqFSjikSRKj8uhUEheUXhQWBA7UaHK8zf/3m/cGWTnB4dz8PuCuajgDYG9ZwTF+SjVN6gf2T6dhdwstjxJDUBFeqYO7e4a415smk7fPMUkBghq97Yrtv2gaWtFjps4axllb/SDmP30G7SQ1o4I/vu0xdAHDDNLzw3hlRwoloeZ7PLqlTXYits+98aiRWjbSWKlSrR0kP0gImGWRG3Qy3weqb/0NT8Zvtp3QpSGizyoZjrUtio8ZsedznMFTCkZOnpWbEreIw8tkad46F0ehLKWIDMnBap6yB46NCYNlQ2QkxWpsUstlreq1i7tSu2nqvpJ+pdqHCTm6N0gZgnaqu0vb3GIDBQfx2OxeZcg4uEhf0bpYdPbO7WB2gjXVetsjCRb6kAJoqM2U3bGXP/6W8t98WoNdw4TvK7O6wQ4r1XJQNeePbe7K7gsYloBuWN+dNBOyBtUH5mmA/4TEpxv/+mf2vvTPTaK0S4WoYl7n9F3m0dMJN7ZGDT6q194meOKZjnur072yqlAlWMLMJW0+PkrbEzPnm267fc/Ora57gOOzbjJBrJ4nFMlz1bLfw0W1Xb6ZSEEGEYHFld3x2yrSANcMGFnKKN7HF6mo2BLJII6GiRC94pGsEfAdVX4JJcMECvaLOQO002Z4axNj+Yc6Jil7nKETP6IY5109iTr4hiZGj3yZPhHLLIaIsYmyS1AgBJBXJ2efopNIhgzFOjCjH6/oIOSX4TQcIoEkKjZGg0+eYHNJr1mURLqJvA6MsiJ1tyfTruYGkeyl8D4+BAxE5algwOUb4AcdvvKFIe8nMvbK/Sg/um379nlK5fs9luXLdgbs43tU7sLa1iirtAmiVFv1AK09Vsf/rn5Wke0wcxyGOWQXUHIG6HaNkL2nx2asP2Gz55wykIM6cLjAU+JnpFR1QCwXIhLnk0eSAU5VGYBmkhyReKI4IrsQqJD6qyzvHSOowS7Pqanw1xq5E/RDjddBUqIMRGoe55nUaehRu/zdBse0rObxAPEjqQKFPCgwmmJM4aHbG56hNjSghUxE0nwz9Ajlm7QoUhBTjKMh9fs8iZgqQxH/mFUGxsb9PVyEBkxQTHAC0yhcXJSBAd28jovNjnUjQ74OFbfxhNVYlYjQwiDwwkoD8PSKrQAcX8FunzCHryGUEA+y1Rz2F5/dYT2KMYHv/Yr//BOD4u7eWmQtp8IE0eac2NdyMxTPsaKJzSN67FPH65yFtWqLVy8xDm4vIsZydfOAUEdi0x46I3iWNi1jUPL4bZT1EnG0kjJuO7qmcf+DIaxBcy0FPAYfSuRGF2YU3cGbUOisMDAtTEd1U2jAOwmmaa4pKhI4NOxsurHlbwtWtUhQDvHYWBh2xCIJ+t0IDY4ngkIjTL82UYVaDPfnibxCzJYKVMtIpbqnKsz8o84Z7RcvDBOCOV9oyAqKh6VSGDJIpw4pJihvq028kkBEqJJLi+eIDodIlPf3OCYcHK1OH1XrzD3XuLdJB6tnQGpvE1TSEkYupowEq+Q96scoGzMr2cnd+piWHojmmYTiOXaA+RyLdRtHtAmhyBSP/n1v30nRRHl+qUsWN7kXQZI7sD1QdL/acSwGIdU9lBCDw5LNuTKM68xYvMzizY7PW3f52zCo7UXbMqWw8mniC8LqLZBrGeFecAfHQVsn/dZ0uiaG5gLoJu1neKNy27MJwXzjtXH2RgXgtv/+Ju/Z8HBKbs0hXBHrxYRm2gAU2FDdBaLKmyKf1Xk/SVaTJcOsFKOP+JUPw7KkUcFOG0C5sI+FCiTKtvPkMCqg2QD9tV3h+z2q/PMjldRsTk2EG/RMGoSiFEZQceUawiIvzlFuTgGobMn60IRGF2cGBZTzQIjenWeQVk87gFvjZHKojbzbArg3DKQxybCwhyZRX/HoxR7+hALTSmr+S6A7OKMQsCwctSQ/BiYGkK8dSw8mfHbxvoyvVdZFlbJk3bYeWVaQ8E+cpIvgO296g1HSnD1Oa+c0ukIouC/+oN1+9zb521Ax6zvh2skW9ssEoPxuXmPXYVJaOglDCzkWBgdyDINGyF+smA8OG6tj+99vGTfvX9qlcyBXb+QtVn6sTpk/9wii6W4BXXlpjdgRt97dILuplN3UArIFZzxAIJulxbUo1MfC0TsSDKAQ6Oz5lXUwzsxNWtXZofIouXJx+QWHRheChbGYuOFXYZr1JnZIv7ofahEXV8GCZ6tH/D+ikXIgKalaLpIhe3GW1mKeEcY5B5yECPfoIFG4dQWKvlEyQKZCiQIMqt4xFpCyhwmp43pMgfSE0yzKTox/AD6nY4TNhBzPQvX3r/zxXfm7cnKBg3PEXv+GIvfpoKFe/lddJ3wAo6CyIuDN1gA7SpgmteF8rvA/MZFv/3mb/0PiHGLTtVOde1vbzXsl770nv0iZ+luU0d4uJuHEDA8j2UUCYo3WfBk7Jz9qDCkHOJgjRZObvBbwCLNNHb14hTlU3IeFsg5pxGa+8njY/uTuxw3XqcVE2bjcVxM3X8kgNS09YYsfSCqXPPZKCwsHuraNvKMTuN5aXECzk8Cd1SxLlgve1NBzZF+WCz+h3FQ2fwxlSVsMUYHTYWYBOmWD+BtdcjGLPK5Ds3Zo0wwOzWO8ZKokkxKPglBhjQtoEIW/2OxeU3+k24liUTquOJTgpxlkBK1+rT03o/I7ExAS70ghvyNv/UP7syQL+wfM8lDedRbJR7w8Ns70vGZtyAwtug6lAApsU/nvbsQFPsUofxoV9Mwr48/W+WQsU0OPc7Qgn9ir730hv2dn/+a3SThujo7Ygke6JMXW875hSro3OJNIvUgWhVuxzna7tnjLZgTeQmDpv/LH/5HjGOSODNHA9sZ3ZOH9kff27QPnyngkr9gyTqnxDkvhE0BFRyo0LsL6ABPeXS+RusRBSRYrA2htgYYNzs+pYxAUhvFm8YmxpxBmRIdmDr+QgmIPE3v/qNNUazSyac9FG21FakP+fJ03LY2d+kf49xg3h/FeXskYkkUxaHOG6ZJnBUDFWSpB1j5lvOmatiy876K7JDgOa4Wqz6KBNcNIq/0IQBuWFgHg/D8k3/6397Z2liyaxfHkRKgfAhyOTo/4mgxOi71CHc9Oa5yIwf24vEjyrHMqPPCUntlVzoDd4BE7F/+6//VZjlxbWl/yP7ZP/rb9vLlOadZzoebzzHSNYGec5eHmcvE7TqFfToN0IpI3uD5p8DCX/yIUQIjO6a69/3TLfv93/sL4hjvWjMxa3/+3Xv2rY85JoOTiPSWr9oMBU2QAUMB8+UpKjUTQDW5pexbB8cU8KQJ2FfYx6ml1HIOOPQsSG5Th/pKGNTB+CnyG8WJY95+KAoJ0KE0Ol5dGpifIK0jaPUmmPOTUfQ1jnytuWwRSqrfUe+vJqYSZPlTHHV+BussUJNRXUTzkSIhzpFMrJQy+wQd/OrAr1TO35IVJ3fiiJe3hlL3Sh9E8vz6b/yTO8/X6QYBRsLweDlZgybUFGLbYJyOPhIx2LNtba0i9v17+59+84/oKpRkz0mjdA7GScRGM1l7vLRq3/zLmn3z//xle+/dKwQvLIUF88J8XAiPOd6h51UOJ1jgmAn/3ooB5HzSDfmtP7Ped35glzY37MKjR3aJ/q4rwBp9c/Y/f3QPouW3L777js2O6KS5PKUAlW2RW7BELT52jVUqjuggTMqw8h7lCHxfTRfddshy0ZLtUpn80qvDNp9mzALikocJnJGfsDOUeNOIg7SZsgmHh3TDIJeoa18brxbUOerfG9vHeHibJg0qprlBArXbqbvgVMgrUgGQ/6nX6L0K95CXNBUm3U7eEqBxYxCYCvNuCiKPfZiomgC1QIozau7zcq9q6nbdvbfEKHnCbr6cg/KDpLhuFW5eI+ikMhyyBXwdbx04E0pt3ufi/oNPtPFIxgP28Nk2bu+z+YUR+8PvfWTv3lq0X/ilV/Ab3ouwcMk8cHPv8gPrYVk9LN81u2AeRuZwF+oQwiyzuw+X7f5fPOZ3qEzeW7KLjz+xqzqcDPmeA1/tf6elqPXKLfv7X/uc0e1lD59uIWDq8Es2AMxWx6GXTZBX6PwqHYzvhskJftTawz8Ingz9DNbt9cvc+PFnlAeidlgfsbsnTMASU2rMcGj0Qic3aMh/Y23Lmay9coFeqqGQ85yVljaH1+ZOmyIA2K5Ho2zUP1T76LtoBSIRnZ1hlIHLbG2XndbZoTQdKnwdn8VIyavIbZQTCaqlc2lqWV0w2gyp354v/uzfuKPeIJ1PrkP4NQMopbeHS6szO5gg49V8A5W+cGqMbPUipch5zsmiwENDXCLSs8dIKKf9WY5QopMki8RwRt7wrR+aa3ONov0Fc3/hffO8dNX6MDNAkzcAxp3F1YG9HN2DK8827dtw+RLHPv0jqOuPpmbMNblgU9QPfqa8bZMbj+wffvOBuXm4n7gxQ9ziiG9g/4wOlbaCoqwQmHCkDeEw1qvWnAgboxMcUixImvG0NgJftLkKTDJmAK5HIQMhOgqpYzFOTdME1prBWzR+tzBBQhjr2XeoVnYgMuovE0hLgvEjHYXITdTUoQM0Ydoo5pSQKWTunaAIECcGUhyFSwyJcn2u4gw7eYkXOi+eJz+nwtynWndVsFIlUxVUz9//L//xnUmkZ2lLGCBuxk/DFAIkQRUohjAyTs2iiyWwzQyUMLBIB6MrkkNmGOd0gkWbGBmxP1/T0d1Nu7S3Y/2P6fCYmbfIl9+0ztg4AzVnaGPI8ydnzvDPIf1dOgekzUMUgY21lV0sE6sEKqa4iAdd6Rnz5f/90CjWn7LPH2/ZX2+t27/93X9uf2+/Z79wedimZwZpziC5JEACvxgPVJOEUMFYHSSyOtwGA+Oc4SEskEX89LkH9kUuA/6v7nGiURFM570Dh/TuEFi5aK3Evuuz6h0L2uMtRpl5bjXMORSdjVcNRMoBy+hUGFHxMQT8Bo9M+KDSJKYvdilR02E5QhWwjupdRZfjgEBahM6VbVFhGY2WWkRJMkwZ44KvmOto/6yfocbRU9Ila2PH1IEouiuP2dvh7HPKk0mCow5rVI3dGXnmJpTBQrjsL//sO/b1/+Kf2h8kaL1/yImjf/DP7aVXJ621/YTDYIq2z8RTAa7dUpMCLKbb5gBK6WcspApCcZItDA8ZHTjw8DYOp1XbFUweb9oJ8stfkt3+m7V7dmPzoX3/jfftH6w+tlewnL/7n/2iXbq0iKdxVCyxpsbDlxpMcbExemDlKKNY9uJFnz2lUfB736G/uL9MUtembRQP69OvHM/Y1NSwVXocHXXAidlstJtD2h7BpHT4ZpQ4qgTy9ChPMzpKNnpUAMlD9Xu932OIzaFJx3nT5hmOZ08TG7bOCBSc16ITq72MUwwMcowHY9x5ShEJDsFxjAU/UVuUWLbeGGcgjtJA7cVVq7X6IXWBKDCwAdoQ/eeUX3El4pJtrOxRY2eiCkGuSfeFziMM8ALSdHaePrF//Ov/m/3KgzXOg/LY+n/1DXv/jdesxNlVS+tHeBbYqJlEHWgh6YAROf7PqR1UeSAVftREXac4owLQIK6uuobeeXSVro2tH37CqHbWfg/55r92p+0/H67bNx/+yH5ti1XY/iF9sa/a3/yFL3K031U67JFE8Cgv48oqLum0a1HSPJLzZy/6tvx4w1YefMQsTNPeep2331Mi3GcQk960TJopJzTsLeohS1ucL5njkGXaTN0QhjiCIyyXs1SOOWifcnFmgAWkcIVEr0MTBGXK9BXQc2hnUQ5CKCPld4jHbSx2EPYm5qrzY3Zp/wkBrxrbZulxCcbtWFu9faCmwzy/8Ru/fkdJkoK5NsMBOKxVX1M8aTMnWDje482ykMyx5hhlVG8Ul1X34NaGfedP/sje/pMf2BYW+t2/81P2a++9yVDnGSdTMx2LO/tR+rQZ4uzSpTTsoiqbyrjkSk53SJFNKYDvp9DGLSZXa+Q/eguJSWoVo+Qxu3sPrPTHa/b2r37FHhw/s3f+wyf27lduWPTWK/9fXWcenfd51fkr6dW+WJu1y/K+JN7TOE0dp0nTpkm6MF2YU8oAQ4HpcFh6YE6HoUASmHIoheHAYSgt03bagQIFTkOapGmTJs3SLI6X2PESW7YsWbtk7fv2SvP5PEr4a0apKuvVu/x+z/Pc7Xvv/d7YxoW+8q0T8Tff/KvInRyM5bHrcQbHoHJtOrYyG2VqoTBOHe9BP48yIgL4H9Cxv3uIOSRXibBh5m6mpRv1vKmO/o785Xj6TDcLSwEbHCvrORKaPkF3S7Gr0neUg0BMkK+x+9gCjjW8TXMtZTgYtXRwFfBe80A71pXl8V2GJK+wVgqNRdoN4HzzVF2O4uCVllKrzGYQ7ODhoZW0fw899BAbgnoiTbmGWOVhdNNusEduyHDvQJw+dSZOnjkboz2oEQyljNbT167GubOvRcWjT8fCa0vxh5+8M/7s4/fGCJUj13vp5EVU7fmTmdQuqiwpS7l5bQ1bYzNmiEEGqXIc5PTOcsFWjRhj2DzDfaYE2NISMAizNZqBPW6/Y1sU9Z2I//r4G1Fxc1v8+/H+yNveFg27muIDH9kXu955G7BGK9fsxubEgUO3Uq65jfa8OejzrFXuZzOA4fncDKO0r3YMxdk3LgMH9ZCZhDwNSPxiP03+HAY8eQ7fehJKyg6v7QZqVFi/no1roH9lnJKfbuKaijJqfjfkIwFWk5B7R/2kWAh15eDDWqRjkX6QAbkWsW/2G6rmgNBQq2oi7BxSoIIykkfv8AsPqZuyQNp+5VLiYqPOwjgtYUAfjz//anz9774GPH9bfHolw1TmLt78Rkw8+1rcPFoWn/30++ML79vJhdAD0XONNgOCsklavsja5YjYorLWUFemjrJE+iPezBjAHSIr7mP5piVFDjqRUNhRrHZFzRCPvNk9SU9gFXq/Nfopsju48FT8CVhZGwME3jv8cnzhjsOxj+LuShJZ+STUdu08Eh8/fGsUNgOKUjQxMkgBBv1/UzfwrtisUiCfSeabbN7ZCDJRROMOU3QatsV5AsdzfcI32CC0he1r2RU6tIigM1SQVFdRGA0C/Mb5Hqr6a2Lfzo3J7V4CLKzG0bEueI5agSKuXVWuCtPOjCEtuUjPFrTLFdTVCCp/fwv0T1ClD4KIjqGuhVeMQzYiLZn5WXbNPhqMYEIk55hWSTKogBKgWWCTETiobqLA4P4P/lycxtAukVYd626Ps9SmfuIMkPyHfzbuQ7Uc2rsXFlJbF3CX8WJoruCiTOCTrlVVcpES+vdBVnmNTGKWAE93Tx3JtWPk9eX5xtg7x4Q8HLbA2hKSQBSpHb8ELV7zPfGFP9tOMumpeLa9Je7pG4jPlK7E0IGdUUjGcJZcy017t0ZhLSEwbvUU1SM9dMXKCb82Sys2ZUzzqIZWYqD33lIMx+/hmKw8yHhwICDUcBb1cx576eTRUmIOXdEstFMZEFm5fddK5JSHlwuk2K/NxGlFxaSp8R5nULeNeGvcQVL79p6j0Gh7IOwhb8N5I6Yh08gGXaVyfwE10EyE72FcwHY0ospEFzKg0rCc6SGiYvCA7MvLg2oVFQzUMBjfefKpJFYfvHV3PMBprOKU9nD6d/zotVh7z0dj4eDtcbSCTQQrkuk5iyu76mZwGiUYMF2q5z1J+vAS1YdjkFv6WRn0pcUvpjWF942uqaXnsjktuKrOhs0y3CoX4npnf5iU6uzDthTuIukFeWbPY9F9+4G4jWpLffllkk633XY4iuulwhDeGUe6Z6K7byjxsOSuTAFsLsQKbvl992xhhN7tMbLhUHSQas6llOVmFqO0tArHgBglSyBLkAY/AXEEUo0LOIXqLSRfLp3TIip+A3kdmwOXCPS2tVIiOjFPfmiOQmoaZtlIiyHKMKIkBfHCVjj9dDIXsGHcVx/hRNcNSojwapuraJPALk3h9o5Y8FdcwbQZNiWNs+aEeGadSCZrQ29vf/zgbG986e//klxxd9RzkgqyM3Hten+8Eyi8/5ZjqQC5Y4jKeD5oCXcRI8GR0GhjCDj1xEXo5bl4HQqM3gmLDVBSqklUmNUfCRnlNIuIuhm8KvVTKLG6wjbBLLC50n0Xov5OAvNcmr8pbr3zIzFAyekwyZ3lp09Fwy0Ho3jTVkbrrcTJVxnZTWtCH3BOR/c1TvxIXO3qief/8W/jzrvujJJjvxYvLm+PLjZCzG7zCtDO2mSAHsUdtQxA5lxUQnB2eBMZQNaC2o60KaK9Bcwv3FMv0Aq5graXovRh6AVNyO0lxzOKndE+OjgMzczCUrmIKtJznUdFIyDJAWhN1f0rPNfcDY1BhBC1SG6mcWMO/dt4ARjjcsSHJWRHIbbHmE8MD8UvPHAs3ty3PUHWZUsT0YEe3UMQuMpmPHr5bHS++Eo89If/mWgeVoS517lyjDZnXc9KKeih4O00m+HN4NVisFGNPINDzeJj0NRXqDYsh7+xWUqJgo9lFTjkN/PYq3hAy5zOElK6/bA77GjYH8fuZCpb9ul4R/2hyLRtjkun+uPCG0tx6nI/nhp1VyzcLfXD8cwT/xK1e++Jb3zv6bjlHbfHIKDjuU5y9vy3a6k7isavUoR3NMo4TC+88Cq9gXQDv/cAkorKWd1IjztRODFYK4moVvIhkpYt4M7nWqyA1KzgvLR307bWwPS53cRRQDvd4F4t5GU24NwYrOpSekatVimnl7CFXNLEDBuEk7PI4VzF0yrDzuT9/u8//HARYnm+YzX6J6xYB3KnMO57T/8ofvG3vxFbWorj6P6bohn/emMG/Z+zMe7Cu/gxwdlvfev78aH7b2FiwW0MByMqpbJ7cpz6VG0D79PJgJjXro5wQmVQU2DWM34rSgSbluF3C8VIyKFL2S3L+UA8C4A0ECXAPQBCIuBV/iZhjFiPLlCGDey/wemEznXrPqhk2bz+S0PMsqLq0trewTfj5ZMdsbslN9579z1RuecT8TM/84m4ed/NCUeqgJajahVifpirKrMQehbRuoyXVIAN2LipmWCzlr763njksZPxDji7Nm6X65cyJQy796I2sHoFH4nrI9ATDkE9T4HBSPFXATC5keYjn5fDATSmE2pXC9XD+1XKPXCZvJrrwHYVIYXJfnL6WBNmRiEu21oK442uTLTPEO0OjJIp4xXVTfG/nrnKSWuNO0nx1tI+nT3RHXHipXiKBNC+B95JrWxZjCNJQzgBlbDp9Ld3cXMb4trwUpxg4pnVj6Iy/swh+PHsS0Djxch3a/iTs6KqZMFRAamwDRmyZ56zxwVq/NHJGEl78YrZPfnZ9W4GxitjaQdSMv5MFM/BHcJ9vPn6BW5+LG6Ba6v91XYmPXN6C26OCnI2dagnVHoMnmf89/QYoCIGmlGybvRgb1fUbt3MhJytkbd5e1Tx/av73kW0jQ1g0WvoErYubXHZzCV6mHtgHzg8cAKjhgQ17RAbJkZp5UUN0FYVFVKmeoPgkRi2kva1RjZUb3KEWudicC1bAs2XcOvp20FmoIhqCPUXb1TJuc0l/G+7GU6oKtqf94DaDgJZU3NbtBinodLLvghoiFf2j+Dj9wGRb2zZSS4hBxLHkXj3njYg/Neis386Tly3JNMsMaWjrDoJVv5NiwIy4QZ52HGKUxuzv+eSYrPlK59vT+MyqstMn//ZRONFy+VoLlSSm9wCynGIY544Pht7Hv9+PPBTH46theNxinz5tk1NpAYmohffv/vKyfj29z8T/+XXf4Pqmc/E8OuXMPrTCZQQ8lgyPgJsnCV2evXFs0RrFXHk7ltj/20H8T65Qb5Yd9IQYFWo9N4y8iW47Bp0O8iEQXJR8RPz9lfSPm6hBUhEOxF9CQQHbagxPSs3yCLzWZp4wHE5fEqYUsK98w9NKEqBu/VBHvV0bq4kYCPluYTxuefYpvi5DxyMw6isrZXoOkowv32xP2p484lc6F7pR5xFl9u6NZFTEWdPX0UfQgSJT//YC13ru07ueAXLrCeVeAr5mcG/T5SqnHZWPHW3Ov5bqVFleYHUqqd/o0SQEJeDG0dq5FwxiLUqpIJ0b47RbTEtZnvviN4Xn49qNnE3TS83aAA9TlPNedggZpgwSoFT/PynPhFZOo6lO/c0SCFlakFkchV4Y573vAHH48nOmfjTP3kq/upP/jnaz3YANPEcLsdD61RqG21qGihyq+Zgoer1omawEU21SIXhA5tMSBMjBLvrdpN0LWnLWXbfKpYipMeAUAnzbXVmPJwVSLdOTNoQk/PYKMSukL5vCrb6Lsa5p5+N6y88Es2ZcfQhuQl6DJ94GbY0WpaHixvpqifZs31PXGq/lMpnOsGdTp/voG34UDRugdyYhI7wgRuRcDJBMa5W70uiFUFGqWUNGAUolQql1+IAYw/jErYupTX9A1uTYplk9Hkfix4MXufIU5TtgJ7vq0/Et7/5PNMJ4MilEG6GtHM5i3eFHvnHvvmJ2EHp5jhuvL0YiQ5d3cHnOh/rGvVmx5H+/hHKe0AKWnY2x9XupfjCF1+MR//p1Ri+0BULw5Q8sTk2IemWNGHcKwEK7T6uw2OSyGYewz8hZQg2zui9FryLLAZMdpChEZ3XSAnCqiNQSSJU2eVshPGY0uqw5LyHfhfohBs2bL/W0csIbgrJAA67Xn+V00Duec9mKsaJVukR+ciHDsaBJowW6d5jR/dxasiV1GyljmoDWUT65rquwuQD70lbXXzrO98lV2IMQSKfk+j8XNaCDeBq+E65ZlcEqSgg32AiaQWVlBh4eIyV43/EI0hFPurC9CyaG+mgMAGbIhBZCpy9hj3ZQT6rcupUfOX7z8Rk2444tu+2qG7eHT+m6vLBn9pPMV8z90DKgLz3Al5imvrMqoyhDc53joDsTiZCswJy7bYxSGFeTpVjGfD58cvT1G9NR0MTKVw6rQCdgD6IGzTg/LeJ+SbWlQ2QMhiipm0DTKktZD1LOSx2C6uOlQrsO88jxsKAS8RQwCaUgWgIp/TQiqEg1iBheQ/+3jqWxa3GGbJ3r59uhxJ8AeANethdWzicbAZNMpvbGpgSsDkq56CmIA+x7eBu+EiuxXLpljTMK4+Ch+899SMme8pbeCz24dT/+ZcfhTeRjiyCKME47hZvCVngZAiReBDy8KrS2Dg8Km2Emb/0zUYkbioSDg6P15Dm4uEYPppxkwGvBIm2X3ErHUpFV8/Ec+evx2NAJAfqt9J6B4EOFZTvvrksnvlRO7MQt0bpGjVWRPTiaV39o/HC+b64DEYlM3WqfkEKJSKzVXqZTclfK8CWlsb1sZzEftrcAoaFE6D0VomcGiagYyopM81HYkvoD2nAePtejuPgbYHYXdn1/nalQ1xMJ4pbZ4rqWgwTg1TyuhYaPwsJjpMGQGvQowfVEU0vda2t1MxSyllWD3ZPxQgjhza2NjOj0PJ+lAgXvIA6sEw/Dxghh0TSNNBla2NN7D6wPf718SfipReep5DuUPzlF34lnqc+eJwoVgY1tJTCkVRSDm6iTNEWK5jGdA4Tf1C18gNCLxZeW6KKU6WJDiPRbB7WBEOa+vO4KV1MS/x1qcm4kx7eHT/49l/E2XMn497D5LFxRi5du0YTDqeTOi4Z484BjzxxoouTCV88vr/EBjaoei262DrjfpafP0OOppFI+uqVmXjpmetRzmI5ikNVvIyekX1oPkkN6YkKAsZk47QPBLNslpKRzz802mUsPKAxZospqCC+S1xzG+quntSCm8ZT+GSvQ7vJK5zStn8P05fv/wAw+x5gdspnKHZYyzh8kg2h4mKJAoNcKDJEQ9fokOqAc+Ra12BMksja2bg5itpuipdefSF+/NwL1M/ujy9/7jeAVG7Eq5cG6bdgUrMRuAvA52VZfekncpOUGKWryniMK3MThB4dpiIlUlagEuMv9648JqlNAKNagV6uI9BaHB+KV7iNoxRqnJqir37ieGwjnZy3WkZH1SS5mYFYKamLZ18+G0+cHaT1Anef1IC1YivYN4vZlFCyGiwU0sq6pMGPXI+VizUbAQMHoR9/uY+yKKpL8JaMLfJY3GUagNqHluMy6VvHAGovrGrXeCsJ2oxifne5x6AHMQu5gYOwnUxsKXbW+/U88tT1DbHxRN1axs4XwfuUXSY4K2Y68hqbQNXGKlUomQKZayhkrt/MJfsGkMTQI2K1xwKG7cT5q0T6+bFr287op1DtxePPxlM/eIzYpTl+57OfjbtvaYrvPnYiGbkNqDc3w/ENCeniwte9CwMko3kCSK4SaeeEAeEDaObiOhej4y2aK2C19OHNuDWB2ObO34jBp05FHLo7ymk+whmPDx57D+gDozBOXSFJNBbf/tenWUT4WkhKyULn/JJUdGB8pBplOTKombQoXIxSQtjHfbLw/J3KIbKLSMr15bhwkvY/MqdOQlgE/R7hIxs56b24/+fwPDkvaYHZB4w2gR83gqBEH6TPFkQoEZXCFtysG8Htc9h4Al+oLHxr2gSuXx8hTUvtLcswNiYaicoA7lgiV72UJUJdxY9exECXNxDIETnP0weo58obqS+neP4koOP+ra3A5UxzxgCeuXAyHn3kWwRhC/Eff/Ln44uf/0/ACuj5xy+xCNgA/HwLy/AtWAFUB+9jRK7A62FJNmkdGBo5nTgLlxODJ/VSGsdaxsZuaoAd7tkno9u7qUMauhbj63/0Sa5jE6U7w2BZI1TfV8X3z/XFa2euxXvv/VB0v/YmkAcSjmTY9SI4mYy5G4LaMv2LokFieA4/PTh5HCAKQIktgJpwFgbaGe0BFib0UYUqqiTZtAVn6PygxDUYfKSZ4sS04IPYCuca+rw2cC1hefYhHb63N8LL97G8h/ma5o0nKNVppbR+YZGOI3vTOSGzTF2eo152jkTR2CzNkJTkTGbgJ7x2NZYQ74s5zBdhFGqWEn6LDU53dMRW8uO14Dd9o1ScYwBnxwfj4plXUFclsXfP/njfXUdj85YMdbxX4rUOThaN9qY4HVov07QXiIfvSUkLUITKKgPDKgZuKEHlpXJ/ouUaipuPHmOuVOepmP7UL8abR47EM7TcLfQtx6d++hiGs5hRfp0gMWU0+DdQLH6FURgDcf+978e/H4NW8Bo0tlSiiEn5eeQ9LFTIwduTSU+013HhBnAmnAqUYo6+npJ0HHMTuKxIZxk9kWJeDoy0GK6PloN6ANuNJdB8MGSml7CnHNxoI5Uo2g/vK6kn7pP//dvX24+lDRmlOnGBirtaullHSP4v6ctTiqnu9HL1jzy9K55iap3yOS0lb56OVwtokCdCtaqiBvWxyE10XemIBvh36/gGTU7Ga57W4DcunIbFs480ZnUc2H0g7rn9UBzcVYlOXY5ne2B1Rpw3cOOqpVKkxnJRO5rM2G3g26k367R+azS5MLr7nkZ6Obri3Jf+NXa0bI/vbd0XjWzCfXfvoBVNtVFMkmwKjK4Pws2tTP0ciB+/dC527toRdx47Rmzylahqa0sSaBG3Gyd25kHEECTnwcHKNiEVGbj6N/6NykfdeUgd5ZQPwluKKoeLBSPNn0El1EG2WFBEgZ1pIRax8EEbpQS4DR66tzfDx/y3j4nv5X3udx98+I2T3dFCZWBOSWV0dQGecRIcnWDOF8Q9fZBWbhVjlUFHTcOTWPf6s9FJZqtnzgwbI1vhRdnW2BTdpisHelOlXhVjImwjcOqbmyp5wImTx+HNGqB4rTh2siC33rQp3r+vMW7GpcyihgbBg7qB6c/jm1/GibCPXlvhqLy9O2vjfXfUx+2HKzihw/HNbzwdt9P7sdTCxOpNB2I/EXExQy8vMT/QgcSFbOhjz50mb95C3VkFQduNeOlEe9x/33vj8G0H4qE/+iPY4d6BemahjVOQkjwNuypLyWBDVI2FgJiWlCIuqWTHCskibRC2o4ay0nr6OhyBUUq8McFBHiZArKPFoJkKFfm23v5yU97ejLQ5/J+/a7EGyRx2TrKpn/vcgw93A49vAXKYW4RidQoXlMVPhhPrzT0lEXXKMbaQZh4YcvajOtpIBP3v78Wp7YejlLqrLtoacmfGYldrCws6TUkmbKZA0/LoZqku8XzM4YeP4S5fvN4db2JfujvhL4GMuZoA6Sao/e7cz+a8ozUeoOTzJ480xU+9szE+fKQu3nekgWCvKporSKkuUNC2wlDL3mvRNNsflafOxeONbQkKmRrshrKVWmNwuC4qRBzg1UlQ1wPdYFvL1tTyLOP1wthQfOiB+wFUq+PxL78YO2CjNu6w8jFZZNxOzbsq1L4W7Zauq7MdM6K8rLGdyW6eUtLQgKrDwI/T+DO1CP87kM72Grw4HntbFWkXMS1QjmPqWRO9TTdjDjt5nbFOfdSIzZMWyPv853//4RoS9zauLKL/FDWTJaS0EUWANa5Rn3xqlCYTjOCufbRNIzmUYETjtTfiyvWI01zwVlRKOze+Oj1KgRi2JUMjPx1L9pZnyCKWk461w0h/Wz2q23mZ1OerF6/Eiy8djzdhth7q7kwMDLPjw7EyBVEAXbuzFMl1Xz0Xp19EIikrqmnYHVUFk1FfvhKbr3dF5tCOqHvn3iihiCGvUMZrZjmRtHr9aicNnc7FyomX2tsZ57SBmio8x/nhePbps7D31MV9738gRqkN6MPuODJ2Sf8UaShkQ4TDDVgl23f833pBGyxHSg+bo8S4GYW47NU1RPfYCRuVmoDOeiiyKCtaiWo2bV0CwLsIjE8MkhUE56ovJ+XAdQ0hFdfG2KQJFhvNI8KdbEgRu5Cm2qAmyjE+HIJUwlOKV+AOT9F/nou3c9MeKk6IKJM/wCf1DsLL/t++GP/8rtuiGAS1keFal4Zohhm9Ds4DFEL6dRBo3moPIz5L9IVjKokVhCn0XOTNXaPabwB9+wrp1uMXr8ePT12I5149G6fOX4yuvgEWAerWLbvJlx+KbQ0rFDTgLHf1UiEJzcfH76cDiROqA83JuzZAHyHOyCp2bYQC68oNgI007ExNjpBGaAJvWqIRtCj+zz+chn0H6Xvf+ynm68dhcZ4VapP7RTBS8MmbJslQRcn4hgglgNPN8fqLQCDy6ZusIrfeSnVkKUbdaXZG34KVLRxcA15z625MCx5aBbD7lX6wvlE6l+dw+7XT6HNACA4EH6EGU5wWYAFdQv87yTiPBXAjlqmQsHd7lkh762YII2lZ9nFgqeh9syueZpDKro/cHX988XjcseVw/IfRntgDSdfrXfS3Y6yr0aHTLH6mopU+Pxr9bfDHpmywlEjxw79vwrffWtMMmx1QNaNV1bgziH4xC5lP838pRXPC8CLEtYUTBKyNsQbJQc4zPwp86ZQbWQGknAFGn54ujB4ydYVE5xtrGuO7L78Ud95yjC6nZkihkb7+S/Sw7Mb7ukC2sSJ++4+/En/6W78UH/2J++Lx7wMi0j8iHUceLrlxiLqJ200xk808RUiGyTe9LF1jy3nE6lRXqjhBU/7MAYm4NEnFCyVBNeh84cjEjcVGtQ8HiDIUVkDwjdU8mff1NYKqVq7kPfTwQw+7yIsMpZKsbImIeBUvC3UPqwE96iCVDujaDCVEap7ndNzo6CJivYZKKIlvzBTE0YHuOIpH/weoqWZ4TVrpKx/Apkzy7yyJoCzUG05NMApPJwAnwMBvDdUwAfA4RHXICJxcU7Q3jFOgMEwyehI62gVao6fpm6fKJt51x75ouXkzC8RpeIlU8Qc/Hmt7DlCyBOUrbvH5M+cogGO4FyduHIg9v6Q2RsZHIPHsgf51ExUo9LqMDRO7bMDdbU6spJsai+NfvvM9ykcb4+iRW4DIJYF2sD0qBCkR7td2WPdcgmRrV1O/CCpEAv0KDluxtWRE3LU1wufETxyeKeCWdiSgmSxFFc+bRPovsBHHr1sgTmRPEblucgUSw84nuEgVVoAYsdfpoBL+m5sw8GJcEPrQqhFFSA5066wKeczCryydo2+euQ69HTxVLCZxfHxp65G4daw7/g69/wSu8N/3orLoMl0mXhjjYibI5M+N0pvOc6WHtf1M1og8pqTVIdZVhZTHoBIvDEzRLErLGRfV0tyaZovYo3H3Xe+Lhm37YnoY9/OHpyPn8Lsjdu+nEwx4lM6mZX5W1zYlks454oo5yA4GRoYgXN7OLPX+GBzrYdFgWSCpduXS65FPMUYDbdBOK9hD0d0f/4//Gade+1Ecubk5bt/bkIJT8FU2BrtAUUMGt3d9YjZeJ56U8YZoLfvDYrKiGHEPm5DIU+2rxB+cdOqLO6n56GRU7IneHIrwKPfBY0xPZylVU7rxFGymAFGXORd1p1ziWqK7eHOpWe2nU7fPUMk4AWYzT6ReJp+V7hsiPMysjUGIYqbRxVMkXLawoJcRzS80HYxDxBvPTfXEvZzAJ/IYqQrw1gSIyJwapvQwTGxwLK4PwmNL6lS30iq+WtDaRlzU3XTvvmtrbRyk8Ptm6PDyKWY7jgeVrd+Ga10RXU+cj5xvPgY5y13BKLX1hVC0wbkWcQJmGQrTw2aOIlWr9GpcZS7WMn9vbaUShckLZUh2JWU+ZMOpWjzH/8+i1hq4z2zcxPzcrzzyaDzy6NcpPlgElGQ4GP2W1trKX6JL66yqQmyGvPO2PTj7kDgyAYaO6JvgIMDAQAyWpcWCwLCUOScAmqf6JFDguewbe5mgowLazaetsgYhQOuxE+ubkXyKh/laoAOZNnIMGTvEi5xwNsGFzhC1rwAfbNuKe2fHD2/QebEL3kQaZji5i5wwSydXUDknaQ36IVJzH/r8J8b7YifP/Vu8sk4KJmYNBqvrYiPpVYM84RD5GGdJDnXAwNAFGDTLeyyxydNs8msXTkR7PjPGb3lfHMG+1L3wQtQPnYvyB38NxdvAdVglQ80tdcAwH8TF06fizKsnogOIpg/1mV9cmaj55qdG4WCE1Iw+wtV5GuYqalP+27hpfuoGfYKgDkjYLHmSKqqpj19i+EDneYx9E8GrtOnEH6jVZe5F9iBTAAme595LUEWVdAXU0qpnQm4Fx8RNFw+7MEi+nNWfAUhcRFJs5cC/SJ6UME0uEmeB+QYFgE1VavAB1o26WavJcd4AHaYrgFJKOeFl2qPX6H2zVN7R0/EW7Z6FwmQfUhloyraBct7gsUPs+hlIIt9Fdd9XihfjzhPfj6da2+IsevW7MHc9SQlp2m0/Hc/qFmBsxz44QnuKx35MLvpYc33MIzknByrjb0CN7yAqLT39Qgz/6HKMfOfPoKwgE8WlDFNZP3D2amzCgRiAC/6V59+gzhbJQA3OckiWGJVRTptB55XzUVhaDVLbwsyo9phfo8x1Q0PM5jCVFMq/7p5r9Jg0Eq9UABr20NhVHEPY0c996Vvxqx9/T9y8fXvs3dLAhlBADQy0AoxkxC7iXE1lY2MDM9Y300aOrZgEryK9wj1l0rjxLc2sKYHlLEHiIrGb0xEQZotm8GV0cT2QpMAJBWTgY3+BZ9BU5oCVGjbWg8eHau1JjaLfFrk4qbb5we7yzZ4ZwU9jb7z5EbySXnhN7DQZpLq8DVXXTFHcp8lp74ZG6cH5sbiLArTbB8hH4Cx0oDKu4HV0oKqeMnvD6fMq7yfd+TFucuFfvhWH+Zi/vvNjUdvXFZPXr8ZrtRvj5Y9+OB6iJcEvx61eepHq9mJsHunSwb7eFIFnuYYJcDNnZ41gvHM50Rvq28iCnmHSw06i6c1UgPRwr7RWVDZwoqs4iKNxqasnWmizaGuowhPr4XW0pTXUxFe/8zRu6rNQpd8Cgr0Dlot6Nna9rz0PSaiHuaimleNdvkZQjApCtd8gY5jPfVkEaAGEkfkCTEdyDcs7lgvcbymQ7BCSgE7xtxoqF61fM0LjKUgYi11MvIF2SV8aJ6sm5jhpcrRPgAvNe6rJPShBpQByk5PM3uOFAxAby6zGKlCTRRUehQOVFGrfQ+nLM/NT8Una1Q7QTv1zxXCi0I93BN34bgzuIv7376EbxYlyUIXZF84jdXRPPfhQlDRviutvDsTTqLA3iQumUKytbGa5Cpiv4Y5uypS6oqCOgjRyIDMMXynB62l3+DGHxMspLdsQw3hXFTVNMAY5BaGXOLYVpmyo00cHsJFDSFA1PR7QWvAavbJKYPIKXofnTypiHPASokvUzB986TtgYVVx2z4mA5HWvf3I4djdBlQzXUUh3LvwzCgrwkOtgP2iDmZVWxWcSDqDM8PkcQw5EmIogQbQkGQpIBFRNq1rJX6WFj4BAhyzhA5nqCvmQdY6SYfJIRaKndQnRh5Af2kpHioApyI1yQsbaFbxhIxRWzSMJMygtxco1dQ1yhK19rBYTsO8g5Oawwa9iAj+JtUasPjHrQSgBwnYavmwJrOPFjkMQXGB2T/6tb+Otk99Mvq6GLk3/GS8QcxSindUjBu8VLuH98bzAAqfHqY0dJaOpiE8MzKXPSMjIMuQM8MYlHIXtD7k0JCam1cKusBA+o2bEzwxBKxSzQbV1mxkEycp5WFoF51QFrwtYrduoOQFNJ1QvYaUePuVRNR77tsXj16cwKnojM/9AsDlwOV4vbo1ym7eQ2uc3iiLzelWNVVQ9BZIiapnDDettR7aDggShui5LKcqZQ51NovXVWEUD/jah32dYgMbGckhtOSKZ7j+lGb0/GnlvRIbTCzHn8XIFhJZnrzAzFpg5voWhtRTzNyG3jz+5CCkl3hkG2y0p7WADbK4Gocisaz1Kn+EO7dycSItI0jeCYzhCd0585q6FjD5IHLx5Fd/N+7+4Ad4jNwD9mbj0ng0zdOXCO61SMF1b2cnos+m17CBeB/TutEsg17VNVqQxymOVfVKi7FoNnJxjMVles8sY8HHBpn4A98jFehjIzASlVelYNOBk+NsaD4BHsogwfpSP02CK5US+GxAjZ7vAGe6OhO//IuH4ifvuw2S/vI4c2MxdtzxHgqpqc5HHCUEcD6dNcpWVJbRLzJGvViaNsH9l3AITaqVIUHzMEN48CXJXESd2ySwRCZWENPKH2OTDA5POg1vpxvdqTxMvu6e9mMNj+QkVYyHN9OWBeTA1MZ45zs2x9//8HKcpirw7OVRVlsXDlbSmikSMNlooaHFHkVpkZy3NMaNZtm0Q3hiGTbD3kQZqJv2NqGvK2hXbktQBDtCKwP9hSDHTqCZgFgsn2ryc0+/SSW7JPbwCYMSX6fMp2wjngun0JERo9ygVEszSDNlKGQ5qSLH6BVTezvColeCV5UW402Z3YM/RUrcSoyss0XW+JaFVfuZi4SUFmo3J+LbJHa/AAAgT0lEQVQJuoh/81Mfjft+h4K5kqaYgqt+Bja7Q/sagH5ILfC5a9gG+9P9MtFnsFuKCq6hXPTC9VFsL4M1SRfOstBdnaOU6C6h3qhX4NqqGENe7kgLNgOtmRwe90DLsB6s8GaW3Tv/3MCshkq7G7CcWZ9ahbf1Dz/soOweNhx6L+TB+pvPf5SYBFQXno8+WBmsiD9/uSu+89ybEWef5F0JR9NXEwFhAw0y5Bsoq1lGSkxI1YF7EYDDXeVALsiVEVrkBei+PzovXIuirc14LBbWARTyX+eljtj7jjZyNgyDZ4PnUVHSfKyThzO0xQ4wLtw6L0KpRA5WWsjARxJFNv6soR4c4OX9zsIKau+HvJHOrpKtJ0uMtYQr+sYboH2c+b/7qz+Pe+46AonzubhWti82bdkb8DFz2qk+NJ/L89MuspNWkuifCKuY5aykDAh2RtAAaZsaibWA5cH9XNcmmnWWkQr7Ogsx7PMkA01jYw34BsnQXguorSLqluWkk4Jc5dANJC3SBJUZ9WTG9u5ykht2BFVeDkxQT+ViPYuzb62Vi1MLkS+mNP8viORvjPxOGq7Y1dEPh2MX05zb45nH2ah4gW90c7RE/mHHnWbj53/pPoa6V3EpkDYvTgKBnIm6zU309uONDY1GM9dwdD/VLF97JO66bz/E+BvipoObofno5kQTI3Cdi8xEn0YFSeYitKLqtUxnghNZgjEtx4NzYIuMq1Kxko7iedw8C8hLOHhz0dl+Pu6+52j85Rc/HEOvv8SEukx87RmK/ba9h/xLS9IaMyTj3FC89gQiWhEjE5/vmcfhsFLL0+/J2sV19nJIK6jemaUqZ54GJQkWlkAvOnpgpMPdraS3ZJRD4HuCj9LJi4QYMOphLeMVqPNzMMA2M+ZxV7XwSDU0wQdC072DuBz5tgKT8+wQAZIRK86z2I7fVoE4dNfvFiLtQ/v28H68I+9rq9cUWNUIad3+4YHo7xmMjotXY39rbew/fAQ9DKzN4nRduhhf+u0/iF/+9V/hQiHhhJe3BuKCStzQrz/13fjZVz4W7/7wXXH42P547pGXong7DEOqVfArjbP4ksNZbNbUW6zAQPv7PMq6kg0iriOuIgdKMGDYdf5cP1fYTpbxvviFj/wK3o9wETt07DMxddPtpAMm4xZSCYW4pXJ1FbK5SwR6c6DJYIpoFiBFFl/YQ2iFS6GlAOMNwlEORFRFIcgiXpazuPLLSigTguF7nNmMFDmYT8HnYk1RkbhYK6j45nzyPYCkSTqEf7UbNmdaYJBH4NNKXS/uPTfMN7p2hcjXWXxjqZySO+JEuBGWvjjvLyVveOMCbl5PLG0UGFgFg78qIHppaamPg7G+UVJSeBNKl5GrLdPjVN5/8LMPohYpUO7ppS15IZ565Xn3NX197if+e/ygf2/svJmGnQeOxJe/+mRsoV3AwWByyEviIgjofciYsMjPMk5ilSgD53AeVWcr2VV63knoxC/99AMctPti902HYqV2VyzTK7N9SxvKhtoC+hMDakIJYdJsdmMF3P5CAmB7EGfBpUQbnOFegnQUclg57EnibBPM5fFGin2rUFcj9M/3UaC9jEbgLWhOxWaBjMgrz/94PFBrC9RWj0XOpVOrrLW94tRUYD/y6XtbreAiFD7Wi/WPIlRCcRb+cxcQeZQNSAL8JaL4tCHoUKfJSDnuAqfx3vx0Oo0IsRuVwdtwg2wVllbb0lCf+//6sh1sjvTkKEjvJBnFgT7ws+s34jpVkUf37ox7731PDF7pjk//8m/FWWg5RjD+s3AJvf21Ka8O/sWFRCu+PF8YI6gG/KFYmbgWh6ho/Omf+XdcwyqNm/vpe6GOICrie/Otcc9BWpsLoAafomtqpjK6b8wTSefHnlYOnhsCVpXHpnMHSB1891TeYA5RYawDazCDi1lDPmmI5s5J4os5gppGDPzQRCGUTguxg9h2FbuxRPsAubzYCOa1gJ02effuvcR0hXhhF16BspHaJyp98P2YGMbiOXNDA+n8i8XhG1GxNIkPT25C5cmepAGL4FCrnPIiTp+7no+BVO1ohBJZF08s0IPABmj0lG3+kmCHlABiY4xqBekKUKBvS1R6Dzfr//Mll5UMCUbBfai+a9ipGYLCQVrYrnf3pLzHOE5GL1DK9PQADTe4vKN5VMXvBY+rhR21Mo5+8K6obtmKYUfFAodb5vNPncQjJZO0q6EJiIsWqOS/ihfJUYKJjoOKarEe2VvMZVOyRObWZGFtk+pScthywEYpSaaif1pXt5AgWqkoiStQguQzD72VyvkF5nwZt1g8J4YnacChLZDkbKDZKYcmllyquDMgmVbna9wzGO5lXMlcQLfmYoqLCTmT8edvejguur61+YMVMB4Hgjn6bZ0kmbXnovUd0jwoFt7O2nVjy0WziTOcfn19xCzdkOT2K/h+FiWIpBpHplFLvFbO9iRVShY7WYTU8SL/F81bm6jfbQI45PO4dgnHJkF9pZVN1eSgz3WllL1SNFFMRUqGxFsWPd22dzcXWc5NUpdFNtQs3yak/hQp7BVqmul0wFNb4uRzgoXM+TDhDj81jzoBbo/35zBxo4WFuNxATZZPGU8s4NHVQppsK195NTaH39kr+mCwFdx7lngIPQKqzrvwD7VHEQLQ0b8SN6E5MmUt+OZ4DzmE9CKReVj6BdDXgiw3w9SCDBxPLiZXxE1zBtCDppUtdi6GUicfzCjLYt64QZcrhXINcEk1UOeLZKJ/2QBOn5WRpj0dB+EIa4Aabgb1hRF2I+1SlRxyDqKbYjKEiZdQ9ccGZIFcTP0WsYGSSKYqeC+cG9Fw2wZg+mAVA6p0yQAhRbhN/tks3htudn6J14wk+ESC14k+NrcImkIWKrVncxibOIWvEa2PzdLWhvHOL6A1mmLucaEjWh6KWPi8POIb15EiQNsaipCaDN8aWbdrGQOrJ2avR101nFwEiFbKW1heiSa5DLogyUxpgd0AmChTG0TyBYCPvbQJbiNhlsF9pxJxfYFyMDQrnJiS3LnEbZKmq2FYk1UHXvbL5Ux4F4vrmIe+4UEyfbNk42CHZt7EHvrxzLBZmC1lBWKCBGGTsDkIBIvCRqDelvm7TmIOuyvk4VzaXAywXxYYpAmj3Gg3xt1pcZWrUHNj6wp5jkFYcjQ4Kvb3pVF5qjEtHjeqZFou6umsoIrS2CoHOMRJcy7u8ADvg6TZ8VSEe03lDhBLUXyM1oI1NkfeXYl2qnjPqzCPri7AoLrBGkeb7NAGXCM5Nj4IJczn5XL6VGVKzyoHdAbbUlnJZvaQbdUaY1eqodWY5iA40mIjVIpD4IALbHYNqetagNI54q/LZziw3CMBCWAYEHwOC1uSQachvkka0AOOrdALYgnSzeu/JzpVTvwMkfIzL8Mbz8/LHcPAEkVpPl/lqYvUULXF4f27iFRdITccqbKwgZO9SKmMOekVNsmJaQakQtBIPJ9rH/v6361OaWptTapMlWmmUW8sHVMe0CophVK7Zjkgq+ySM0BGqMIUJahkasLqKrCKu4cUp5dylHO0XSwimo2/sSn4sFIutZCSZdXT++v5NMFEuPsWEF4kcg1AdBVOSOcgzuFd6c6v5Nm3zvuhspd4c+2hdWGrqDNVUxm9ayNDY9GI1wnmGtUcOj0zhCY5AasmAWmpHiHTugzpzR66B9KRWgLwQja5T/LpnDhxIcSGRbQvm3+zHYKNelGeTjtR7ZqtYDTSPe++lQ/Ix9u5wuuotwUNLsQFlqGtlDgg38jL13On9nvonWncV1GNSsIyKmQOkFJacBctHTk2AinnV64B/TyNJ1KGnbM5M7npxASqDi2QtscKR2MCD8s8RDEzBISSjOGtuIvJBtjvroPhl6Ni5YgXdV3N0tw/iZfIG97gW3ZR7ZctDx5UM4WrqYoFlch1yfiDcwRuxwHKYnu5J6/FTipJEQwZigEZoV6IhTIpRoiv+qZjJxG6vFrO88q9ApUgICSGggNZmNo/8ilwn4E6MefMefaWMhlZl/m8dIMSzCsR7qZ9HN44D/Bv3oJP12ZY9e6FcMTSB2kLlKNiXDhZS6Uv1wNJTZEsimpFd3adWAyVxIetoFJ0a7UtDlnxhNmsoxPgtTgUeJKKFw17FWleVSUikjaKd8CGQT7s4rJoFmfMSJfEC51B6CSEBZDT2pqaJCHT9IWUkNFUlS4C4OF4I3nYKCRiGiLOPMt6sItuohvvNOy0n0iTbrr99KpYeXYlNVANOwhMT9HNKwavGaO5cJ7Na4QHfwbbchlpLy8mp35iOHZu3hxvXCNKp/VvD8PBtm2jEr9nLq5d7kJt5saPf/AcAzBHweq4kTmlgdWVayOPG3G6shOQrdJWWVveokgXANgIVzh5Jm0O67PGIrrQGmn5qZQizj83bp0U+p2/2XFkZtL19JQmdBMd5ud4MvWs5oFd7PtQPSbOFRbK6vOqKiv8OB68h7bGTVvjd1XgIrWcxkJjJMqmqeMtg8K7po7qfA6XzEOOKnKsbAZpsFXOUiI/g1gv/XQam5Ui8v0aOwkEOtMwKQhUsuRq6fOEMnjQocoLHCyl3FnvgtVem8VzXo8B5CpvPjRIVpHULi4dkA6UVkiwMHs+xtthM8tMouumj/5q+wSFEDfA6PbEtrvujS2w2+W0vz695iBhvY9lPBo/mPvm5LBAnAwT/a5kIYGdi2tOed1LYlF4nsyfStASf/PUaLnFtawYF1JYRFXYI+iGpBiDBUjVf7xKdh5z1UId4maKsDfoiVMaPJXGG264rxXSSQElcmIadXiQakXe21OvmahkcArngOsV0lBeuX6lYf1c4XxAzMzaKt2NjJdw+oF1Yn4tAPWX6IrzqmUOlQ1J3osLrbTZ14hQpevy+j2wb98TT6Fvno3iuq1enAP271iBUY48x9gYQ86q0Rjz8MYPLsdFpCC37yK1CrRv37SXjoBNaNW1GJosjGFKSTMLuIcWcYliAlDhDemacjrYaQ2sQiLNdmIr0PCyCV6IOnltBTdVNcCGpAvmLQwK1eX+l6SCn0qLC8/t+Kg/ONlsAidvhSBLr8vN8A96Xc6n8pAk15bYR7ZsXWel0PdfhMhmGY8mMZKyIcmV5uXqfpNjuslKgnRK0sbOYlcWSYw5WU3edScJiUrIZuehcIHzcRiW+d2gWDhEPhZz4VJF2ZKgN6UPKKAoPYYjkbxT6Q/dwGWeU8RBmGbheylaryGhV413NUaKe5KG2Go8hLKlsiimRWHvPYcAbOkcwPdtboJwgLTjGkx7+CORuYQxFmlcb8FCHxLFFGEQPRlYgCTOqwAvdqaaRHGawbzV7IqRF6mB1Zi8daI9oKocbZDZR4+VRjQlDblgF4AEM7ofYuN+iM4A3WRq4+V8IW3EOZ5431vOR//tRBt1vc2aOgnaDueKlJDxW6BcaB7UQLuTjx1wgg7Lxmeyoagq7Z0ta5WAfRlUbrYIQA8VpWQY5DqsxbFFBWL2Hko3nh/aNxdBda2qXCH/YU/hKgfIoNZJbuYv5llMwcoNvE8OHFg5BNGbeG73hUvRQYvFbC4cjrwvfAOsJmvLNVosIZBZivcl7iYG5w0jGpG5xlDdPLJy82BZqFCeAAspF1dLN2kysCxoFrEod9ik0sINs2TpoooIaRNVnwvJo9JiuAVcKqfe+EAAkX9jf9y/9YVWPbHVLEpja+NbdmrdUViffyjUInyDCuDbk2vvY3IkeHwR+zUFTZ8ElW6Ke+7ovAUWwbFDFUiH6k37ZN+9DoM5D7t9dY2XkLwVicnYZCtBHECmXcv3EHBC1QjS7U2SRigA+ljluU7QEdqRvkpnJHGusBkGsuMEkwKn+QCiw3BmXXztQlzuohMAlrqj79oSFQv0jxRMMbktG6fPLtLkRfzB6zxAG+mD5pLwSqk9BXvbvsqEo29/5bm1fHxy6SsM+ycpQigndtiAXuNKAcx4A/SwC+30HKPXOR4rR1VpxLNErIXU6iol+SSDClB72gBbxhIlOBvh2KESbs6IX70uJiQjQursc6d4TLd6ncVN3awyQLZQc6oO6S9cvCRGXKdTcrRRy1yXzoaybtwk9PJ2D4bqMCl9j4qGA/cyT5uF3fDNU8ziaUUt+1m+tx6TEmLNmVlHtYA97apvxIv35nkiA7yfkj6LdBQhHTcGJ+PZq9SfUVx3YF8TFTcbScDZdLQMVTsZTuZ7VRUy6HJpA6TKJPV6B2O2kCnXlLXWwZXS334lJoF1DlfCiH38kWfXhEMsaFYV2VmqQVtBFWjvdPFykSDLQq1GSV4HN5LPSZlm83J5THOsdRBOWOUGU0qUvyfGaZ6rjVJ29OSMGQp5zLjaImnuEzXp70gZC6ANUVUoJdoM14C1R8reWmweT2zSQC35SKu8VLqsXMb6VfBzhXSui6oLazmOKocP4HM58UhdwsvcADZ5juyhzyskm6jtURK9Du0Sd8TP9c3xuZPmdECga+sqoVhaJ1aeptnnHKhuVVt57GytAP7nYLFh2horGWeni0kzA5lAWDafrYtdLZbfss4Mk8mBsW8c7+tlGF3nNu2Kj27B43N2htMx5S/PQWxSTzUXmYNxt//Bi7dkVBiiivw2iAIfxN0hazakrGJvLMOx6R3BQZ+SlwaylnFhzqIDcvLr9EQYSP42j9F1mRd9MqoQFy9uUM3u/A0lhaVFHdKjwclXTaQWaBZHVcEO8DdUKU7AEgtax/CuVfo5nIYjOSdClhZRO5M2040X/3pLKrRTCH3aPBNE69PbOBpsnqwRHihegPbQVVfy1h0TRUOZLSLQrQIJ1uZMWx3SSJ3P9qo4QtF0WQb7guOwTuHyVmCLJsiHCip3sih2NOXAtrRKzwysD+1Tsbl4Iva1AbBTyD6wuS2engGVxq5mUmKHG86BSqiIGqr1aNprsVriLVXEWpTxwkLU1Rp+/wzFapJcuWiO+taP96J133y9cItzpCzYLuPGtSMFlJMKSK4be4wuutsFGGMk+PWBcVqPiVTxhupwXasbGaPKzRnBZzhpqxwINwR3IkaZo8sOEw3DRg1BJ2+egjVVRz62QoO97jobsKGCELEiGk4tCU1q1XtAndnciQxxTyVqK5+W7GDGa8XRUK36mVkOptK1wEGSwnABLWJffS4c71UMUCuFzVqXfR7A0ff33PBGaUOLeIySNO4L2ISYqSVnOLoXtsYr4wwyo1G2ivrfEZppOc9RMTNKwyjRvJfiReSDRqbEEhfJLbLTGDoeT+KM/i/mw0SDy9Ch+SRk5hHVIk7yWo6AkLVZQArUyprE0einui4uTHWYQ4ClQTXJv8TJM5OXIe4R4fXEHtizAzuB58YvG5jkrIpyleBKS5/vKCHneiwhyYZFwiWO7V7klLqoVruPAdQhrzxfD4vyGzZHD8p/C3KuqxCkGde3EFfZIFB3KpdD58YV8KGOLDd60btzwk4BYKTelBI3BaWI6HRpRXPM0btSvoXFw/uc4/70KnEc8ThZG8DTDMmrAtDzAj47B67HkpxqWhSWYxdxyQKR/I463G4kYhZemQbqE0xcXe7sivO9O3U21gMhqSKWBMx4o2V0uwSOZrc0fhpKPSfNpKIu8UuWggFq2kmPcrHEBR4MyzA9Tqt8eB4n0kYWhV22G7EeG13Er3Q/HT0qaFdFBaGwi2OvE27EglrArSMg/fkiPSOqT4PWPD67tJR2OXEpyoXyOd0ZFnSBdoYCdIX2Xf2vKyndkzCNeXARCLYpqc4sh8CIeplCPI5NkgTnEZrfMcayTyN1PSF5OaCdZUD5zrAqR8pyatpiqrIevI918CTxgiI2s5g1KwZKdxNyOciWJBnV52B7MzR/1udATIPaWoVctIgWDAcHXKO+a6V2Ifa2BIV+zK+iDm2phASVpzLRJ7FoA+Q02jvGoN2mvhXG5yzp10IuVF3u5wsZOGjR8hlHfJtY8tSqspwZq2lxZuAcKGY5sDZlEbxW1UGlBydW2ZPsCzmhz52bQDXgsiRPzcBT+5VBF3vqjd6XsA2rTGF2OEoOm2jEnqXxRshEk6t0G4dYkirkrz1TXYkMePrNf8xyYivZED/XXIv2R7XppFFV1TrIaGmQZUTEC+Qy8N6To+I9T1JoMUPVSDUBYFUelOMk5CzXKZw25kEiEPsc7OEK95glRSFHMQvKtXE0uYZibF4+h3qFhNgUSEMh2dnFIcbY9nTHhoO8Nr8ZupJMfPidlfEopAfYbE6CJwTl10aBWyEur+daz0gvUGzJTdNXX4ev+R0dbNpzGk4hI/1cbs5ZHQvk3nMZxbqBXIBxjca8mBPk5c1BWS7+laB1bjhJAAsm9O41WErjDejJuYmruLTsN06CYCUHgs0Vl8qivjytBmWqPJt+hFmM0oVabMkT9uF8YNNQQ3m49LyX9sB2ghzU6zJkbDkcEG1iLtfgZy6SD88HHkpQPLaugETX/KxdtQ61nKEnZoHCvTfSkOOyUjaWw5lHdWQhbXf2oeRwKG2cdROTfUQ9pwwqm+NwyTy6yzyL8wtMdSPSv6O5Ii5RgFhKND/H7wuLJNaIp3Ke/6fHcZpYId40bQ4nzBtVXejru5hGq/KBJPCMxwX3lnC3pOvT5cyFRaiQaNRpAaoeL0j4o5QKgBx9eCRnBUnyUAtF5HOS1e3qe11jyczMjwj+cWZ4DTeF2Kd0MY/xtHRo1rRDLISenAMeV/HgbHhcpVtWF8uqkARj4BCUY8+KWWCZ47gcFpt5VDSicnG8joCVjS7AZlgixJvwP+wItrKIxyVImKRcdWhwPBW7LfKZ5TgRhgR8KgguY1T5XCVJm+McSD21PMIFy4WWac8wz6MXN4f6VrIdVGykLzRlG5y2aa2omr7NeqoXST3DKs65tFCOVWJXuUM8BYA4dKg++KouHxcggmB5vdiPKsdKO0cjFWM70jRMupVWWTxVRznV7pxRpMu2agNDAEHcWRFh1R3XxY3jkbCwGVSMz9Mbs7ZqDtRZ1ajt4QRwPsCVWCwVk4suUYwqSHysFBIA55iX2tHEIjgPEBFgU6lk5OWrZgfdYO5llQNQbv46IYzAPCxGHu6zg4UTok07nBKp+kVscA5o+iELqkflfPkNsLGWKuVookVq0hzfaprYvIjqXBtrWZBtHGqEPK41nzoFA9Vl1K1dAtYBi2LkUlVSgMrLJXjOcg1ybGVXaKHAoaqjtXqCvA9eJW/EmyaaPxZfL2kJtjQXkdXiVPOTDzYy9TmCiGkqAOogj5B/CXuRmzUPwQWjyuT9cKqZhdprGDkTMK6xrGuWxSyhQy1MTrOi3GI3BXBOyeFlbKywAjcJHK+My29ip5ag4CoAnKwOa0gbDydPKEPDT4J6uT6B/zxUh9CGWU3PmcVzLjhLxe8sINpgQfo2VJheWAmjKmzUHMJOTNJXMjIxiv3QQYDADQI03X/fdwL69VJrcVGX3FTa4DWkIF9UWelXVlB1qj4PpWSeFRBqOoXNA1dCt9QqBD4TlN663g62l1pK25nKSTEJ8mhlbCcQTV1vKkEXciRX2FXbsFir5BGJgqZWLMUSSXLxbRtSn1PKmIy6p8OASSglKVIvUD3PqebssbYy4hDrEMDp/Swhjep8XWBVE3uARIDiIuKlpD4TUoxUjpHTXjAbyL8diSfsLmxeIFTO+1tx70lVjbm56kcl2RlarCluLag1V5CkjwX0AAqROF4cfxFu+GFmxY9zDbyKa+Sq+TuNr3hWzkDXPstaVw2vr0GqkudPK+VVr9pPqybz8fQs6HBIPay3SR3rPXJMqU+AAJrDO0bNAbR4aYxrFe696zgFx4x5GWsO8BGQEN8YMZtlMZ3wYo+2hcdKg6fIRI+gn837nlgHIBbSw7dIcJilMiXDc8zacScsFhfDaTeoWidywaAi66p6VY+2QNskMiBEYUYyjZdjscdRB1bbew2LeDzJFqDONHjIMDeNVKGiNPBztEsUsAB2x3raZshfawe1gS68QWAp0bNYGtYp6XUj8QIWbz3WIu8OoX5HZwe3tO4lWkfgZuaBxC6yEbqmeDeoXgNNAjzCAKVGW6s6UoPkc7h8lZpYeMaDJnSfqupZrnIajqg3iREINK90XAKCp6n1wF6kDvuiOUCH+/wKDrd2WUcnU0o/g0I2g0ehVGRJ3CuiKSPIjeHDJElxIT09eWzGCpu2hppy8ImDw9bp8UxSWVKpihCt5cijClxwcxl6UIWItx7NAifHIjHt1BJ6WmmwWqOMRhLHCnmypPJOeRQWqZRgLnGN4MVkdGl5vhUvuQR8xSDO2h0O/rrIq7J0NNg4ltdzgmpys3gdv0+ip693ddPpNEX/Ie3UnFTzOWYKUx6djc+gBUy2CRutZ1J1ld86bLwrt8WGobqIU2wgzWNRRQjyWVSR5kqcHJHyGYgxZ4nwK0qYhHB4KxUwtbwP+RmifW2QZa/cbqorKEoOBra1CL9c39nCZMXZRTV1K4u0A7J0b416OcsYJbnOGaoIFkBQSqU2p5VCslzshOw4OmurnCzhhqS5kBRBRw1qGt+AnrTF2NPIEmKLhBxm2BB5eIFpeK4BoyozlaCiUizX8fM99bq07DXrgO5lATSOObyXUmH1n7MVlcQkoTzfeKmEaFvvcBxawoHhEcqVJrErUD6Ra7f8dYEbMSrPJf4x1rEXUMcwjeBGhZbjKepl6gAkUjLcXMHTdeXIWsEgZPGemUJhI2k45BPWIaFDLorqy3Ft6zn9slob9BIbsdEoJMBG1LTkcEy7HiYfvMxGMj/EZBPqhp1N8Dt4ktG07mqWxSvgZC1nuUJ+sk54AvQ5aC94vmJXBitcMaz+JqCEHny+LnKioJDBATczn0VJjZCoR8dw54ihoL98TQ26WSwIvcdh4Mb5WzH2wGyhgKFuMceNBeA/TqDUgEqARQUWNCRg0NXx35xKVig9z6qYPFTDIPNDhukOniGJZXXmxvoaDpypAJ+qCgSBwBnRwPMO7Kb/QxNwbSlu4QToidpTb4pXDWCHgLB8sdfHEbdPvYiAspCYgv1KmF4+00EzRZW8P8/Hs0xV6tQZg8DANkHxBvd/FRK0XjhWHJFkI1EN0/L+L+CfZJ+Xzw8TAAAAAElFTkSuQmCC)"
   ]
  },
  {
   "cell_type": "code",
   "execution_count": null,
   "metadata": {
    "executionInfo": {
     "elapsed": 308,
     "status": "ok",
     "timestamp": 1610482775403,
     "user": {
      "displayName": "Taeyoung Lee",
      "photoUrl": "",
      "userId": "07906618747313337531"
     },
     "user_tz": 300
    },
    "id": "UOaRLKpADfKq"
   },
   "outputs": [],
   "source": [
    "img_color = cv2.imread(\"IMG_0890.png\")\n",
    "\n"
   ]
  },
  {
   "cell_type": "markdown",
   "metadata": {
    "id": "y43J_F0ZRFxz"
   },
   "source": [
    "### (b) Save \n",
    "\n",
    "Save the inverted image as **`prob2.png`** using the command [cv2.imwrite()](https://opencv-python-tutroals.readthedocs.io/en/latest/py_tutorials/py_gui/py_image_display/py_image_display.html)"
   ]
  },
  {
   "cell_type": "code",
   "execution_count": null,
   "metadata": {
    "id": "0VapIX0hQPPz"
   },
   "outputs": [],
   "source": []
  },
  {
   "cell_type": "markdown",
   "metadata": {
    "id": "vO82p4HURsVg"
   },
   "source": [
    "## How to Submit\n"
   ]
  },
  {
   "cell_type": "markdown",
   "metadata": {
    "id": "-ofWAUqxR0ZH"
   },
   "source": [
    "That was it! Then, how can you submit your best work? Roughly speaking, there are three steps:\n",
    "\n",
    "1.   Add `prob1.png` and `prob2.png` to your git by `git add prob1.png prob2.png`\n",
    "2.   Make a commit by `git commit -a -m \"done\" `\n",
    "3.   Push to github by `git push`\n",
    "\n",
    "Checkout the OneNote entitled *Homework How To* for details\n",
    "\n",
    "\n",
    "\n",
    "\n"
   ]
  },
  {
   "cell_type": "code",
   "execution_count": null,
   "metadata": {},
   "outputs": [],
   "source": []
  }
 ],
 "metadata": {
  "colab": {
   "authorship_tag": "ABX9TyMIRd4CmMPOnSnIhNI6ZW4S",
   "collapsed_sections": [],
   "name": "hw1.ipynb",
   "provenance": [],
   "toc_visible": true
  },
  "kernelspec": {
   "display_name": "Python 3",
   "language": "python",
   "name": "python3"
  },
  "language_info": {
   "codemirror_mode": {
    "name": "ipython",
    "version": 3
   },
   "file_extension": ".py",
   "mimetype": "text/x-python",
   "name": "python",
   "nbconvert_exporter": "python",
   "pygments_lexer": "ipython3",
   "version": "3.8.3"
  }
 },
 "nbformat": 4,
 "nbformat_minor": 1
}
